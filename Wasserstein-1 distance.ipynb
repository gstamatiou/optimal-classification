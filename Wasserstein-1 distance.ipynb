{
  "nbformat": 4,
  "nbformat_minor": 0,
  "metadata": {
    "colab": {
      "provenance": [],
      "authorship_tag": "ABX9TyOcrBKIbUmsq4uOOKorSKdk"
    },
    "kernelspec": {
      "name": "python3",
      "display_name": "Python 3"
    },
    "language_info": {
      "name": "python"
    }
  },
  "cells": [
    {
      "cell_type": "code",
      "source": [
        "!pip install graphlearning\n",
        "import numpy as np\n",
        "from numpy.linalg import norm\n",
        "from numpy.random import rand\n",
        "import matplotlib.pyplot as plt\n",
        "import graphlearning as gl\n",
        "import sklearn.datasets as datasets"
      ],
      "metadata": {
        "colab": {
          "base_uri": "https://localhost:8080/"
        },
        "id": "MwlamFJFvMk6",
        "outputId": "1e5f8b6c-d69c-463c-fbb1-aec57a7dc54e"
      },
      "execution_count": 2,
      "outputs": [
        {
          "output_type": "stream",
          "name": "stdout",
          "text": [
            "Looking in indexes: https://pypi.org/simple, https://us-python.pkg.dev/colab-wheels/public/simple/\n",
            "Collecting graphlearning\n",
            "  Downloading graphlearning-1.2.1.tar.gz (69 kB)\n",
            "\u001b[2K     \u001b[90m━━━━━━━━━━━━━━━━━━━━━━━━━━━━━━━━━━━━━━━\u001b[0m \u001b[32m69.6/69.6 KB\u001b[0m \u001b[31m840.0 kB/s\u001b[0m eta \u001b[36m0:00:00\u001b[0m\n",
            "\u001b[?25h  Preparing metadata (setup.py) ... \u001b[?25l\u001b[?25hdone\n",
            "Requirement already satisfied: numpy in /usr/local/lib/python3.8/dist-packages (from graphlearning) (1.21.6)\n",
            "Requirement already satisfied: scipy in /usr/local/lib/python3.8/dist-packages (from graphlearning) (1.7.3)\n",
            "Collecting sklearn\n",
            "  Downloading sklearn-0.0.post1.tar.gz (3.6 kB)\n",
            "  Preparing metadata (setup.py) ... \u001b[?25l\u001b[?25hdone\n",
            "Requirement already satisfied: matplotlib in /usr/local/lib/python3.8/dist-packages (from graphlearning) (3.2.2)\n",
            "Requirement already satisfied: cycler>=0.10 in /usr/local/lib/python3.8/dist-packages (from matplotlib->graphlearning) (0.11.0)\n",
            "Requirement already satisfied: python-dateutil>=2.1 in /usr/local/lib/python3.8/dist-packages (from matplotlib->graphlearning) (2.8.2)\n",
            "Requirement already satisfied: kiwisolver>=1.0.1 in /usr/local/lib/python3.8/dist-packages (from matplotlib->graphlearning) (1.4.4)\n",
            "Requirement already satisfied: pyparsing!=2.0.4,!=2.1.2,!=2.1.6,>=2.0.1 in /usr/local/lib/python3.8/dist-packages (from matplotlib->graphlearning) (3.0.9)\n",
            "Requirement already satisfied: six>=1.5 in /usr/local/lib/python3.8/dist-packages (from python-dateutil>=2.1->matplotlib->graphlearning) (1.15.0)\n",
            "Building wheels for collected packages: graphlearning, sklearn\n",
            "  Building wheel for graphlearning (setup.py) ... \u001b[?25l\u001b[?25hdone\n",
            "  Created wheel for graphlearning: filename=graphlearning-1.2.1-cp38-cp38-linux_x86_64.whl size=143758 sha256=494cc706299d4883f00512acc9f4e6c8868cbb6e36068ad5a5498f1650c23298\n",
            "  Stored in directory: /root/.cache/pip/wheels/5e/84/62/681cf2c2a59f1f5e58d52fb110e2eb4c93c9c808d932829543\n",
            "  Building wheel for sklearn (setup.py) ... \u001b[?25l\u001b[?25hdone\n",
            "  Created wheel for sklearn: filename=sklearn-0.0.post1-py3-none-any.whl size=2344 sha256=ee7c7b6bd9e5ab98a6f54cc99d44f54d397df4249c4b4af16a20b6e0b7e82966\n",
            "  Stored in directory: /root/.cache/pip/wheels/14/25/f7/1cc0956978ae479e75140219088deb7a36f60459df242b1a72\n",
            "Successfully built graphlearning sklearn\n",
            "Installing collected packages: sklearn, graphlearning\n",
            "Successfully installed graphlearning-1.2.1 sklearn-0.0.post1\n"
          ]
        }
      ]
    },
    {
      "cell_type": "code",
      "execution_count": 5,
      "metadata": {
        "id": "xb0r9mI6uo8h"
      },
      "outputs": [],
      "source": [
        "def graph_grad(u):\n",
        "    gradu = W[:, :, np.newaxis] * (-u[:, np.newaxis] + u)\n",
        "\n",
        "    return gradu\n",
        "\n",
        "def graph_div(V):\n",
        "    n = V.shape[0]\n",
        "    k = V.shape[2]\n",
        "    div = ( V * (W[:, :, np.newaxis] + np.zeros((n,n,k))) ).sum(axis = 1)\n",
        "    return div\n",
        "\n",
        "def fast_proxF(V):\n",
        "    norms = norm(V, axis = 2)\n",
        "\n",
        "    Z = np.copy(V)\n",
        "    Z[norms <= sigma] = 0\n",
        "    Z[norms > sigma] = ((norms[norms > sigma] - sigma)/norms[norms > sigma])[:, np.newaxis] * Z[norms > sigma]\n",
        "    \n",
        "    return Z\n",
        "\n",
        "def proxF(V):\n",
        "    Z = np.zeros(V.shape)\n",
        "    for i in range(V.shape[0]):\n",
        "        for j in range(V.shape[1]):\n",
        "            V_norm = np.linalg.norm(V[i,j])\n",
        "            if V_norm > sigma:\n",
        "                Z[i,j] = ( (V_norm - sigma) / V_norm ) * V[i,j]\n",
        "\n",
        "\n",
        "    return Z\n",
        "\n",
        "def proxG(u):\n",
        "    return tau * mu + u\n",
        "\n",
        "def pd_alg(K, Kstar, proxF, proxG, u0, V0, theta = 1):\n",
        "    threshold = 0.0001\n",
        "    difference = threshold+1\n",
        "\n",
        "    u = u0\n",
        "    u_bar = np.copy(u0)\n",
        "    V = V0\n",
        "\n",
        "    while difference > threshold:\n",
        "        VV = proxF(V + sigma * K(u_bar))\n",
        "        uu = proxG(u - tau * Kstar(VV))\n",
        "        uu_bar = uu + theta * (uu - u)\n",
        "\n",
        "        difference = np.linalg.norm(uu - u)\n",
        "        V = VV\n",
        "        u = uu\n",
        "        u_bar = uu_bar\n",
        "        \n",
        "\n",
        "    return u\n",
        "\n",
        "\n",
        "def construct_data(n, k = 2, labels_per_class=5):\n",
        "    # Generate training data and label sets\n",
        "    X,labels = datasets.make_moons(n_samples=n,noise=0.1, random_state = 0)\n",
        "    W = gl.weightmatrix.knn(X,10).toarray()\n",
        "\n",
        "    labeled_ind = gl.trainsets.generate(labels, rate=labels_per_class, seed = 0)\n",
        "    train_labels = labels[labeled_ind]\n",
        "    m = labeled_ind.size\n",
        "\n",
        "    # Construction of measure mu\n",
        "    # mu[i] = [0, 0] if i is  not in the labeld dataset\n",
        "    # mu[i] = [1,0] if i is in the labeled dataset and its label is 1\n",
        "    # mu[i] = [0,1] if i is in the labeled dataset and its label is 0\n",
        "    \n",
        "    mean = (labels_per_class/m) * np.ones(2)\n",
        "\n",
        "    a_idx = labeled_ind[np.argwhere(labels[labeled_ind] == 1)].flatten()\n",
        "    b_idx = labeled_ind[np.argwhere(labels[labeled_ind] == 0)].flatten()\n",
        "    mu = np.zeros((n,k))\n",
        "    mu[a_idx] = [1,0] - mean\n",
        "    mu[b_idx] = [0,1] - mean\n",
        "\n",
        "    return X, labels, labeled_ind, W, mu\n",
        "\n",
        "def predict(u):\n",
        "    return np.argmax(u, axis = -1)\n",
        "\n",
        "def power_iteration(K, x_0, termination_threshold = 1e-4, num_iterations = 10000000):\n",
        "    b = x_0/norm(x_0)\n",
        "    for _ in range(num_iterations):\n",
        "        bb = K(b)/norm(K(b))\n",
        "\n",
        "        if norm(b - bb) < termination_threshold:\n",
        "            return bb, norm(K(bb))/norm(bb)\n",
        "        b = bb\n",
        "\n",
        "    return bb, norm(K_starK(u))/norm(u)\n",
        "\n",
        "def Kstar_K(u):\n",
        "    return 2 * np.matmul((np.diag(W.sum(axis = 0)) - W), u)\n",
        "\n",
        "n = 100\n",
        "k = 2\n",
        "X, labels, labeled_ind, W, mu = construct_data(n)\n",
        "\n",
        "_, eig = power_iteration(Kstar_K, rand(n))\n",
        "K_norm = np.sqrt(eig)\n",
        "\n",
        "sigma = 1/ (2* K_norm)\n",
        "tau = 1/(2 * K_norm )\n"
      ]
    },
    {
      "cell_type": "code",
      "source": [
        "u = pd_alg(graph_grad, lambda x: -graph_div(x), proxF, proxG, np.zeros((n,k)), np.zeros((n, n, k))) \n",
        "#print(u)\n",
        "\n",
        "predictions = predict(u)\n",
        "print(\"Accuracy: \", gl.ssl.ssl_accuracy(predictions, labels, len(labeled_ind)))\n",
        "plt.scatter(X[:,0],X[:,1], c=predictions)\n",
        "plt.scatter(X[labeled_ind, 0], X[labeled_ind, 1], marker = 'x', c = 'red')"
      ],
      "metadata": {
        "colab": {
          "base_uri": "https://localhost:8080/",
          "height": 300
        },
        "id": "pjioBBaY7WkT",
        "outputId": "0a49cfaf-ec65-4615-9a6c-fed285d9af02"
      },
      "execution_count": 6,
      "outputs": [
        {
          "output_type": "stream",
          "name": "stdout",
          "text": [
            "Accuracy:  0.0\n"
          ]
        },
        {
          "output_type": "execute_result",
          "data": {
            "text/plain": [
              "<matplotlib.collections.PathCollection at 0x7ffa1bb21400>"
            ]
          },
          "metadata": {},
          "execution_count": 6
        },
        {
          "output_type": "display_data",
          "data": {
            "text/plain": [
              "<Figure size 432x288 with 1 Axes>"
            ],
            "image/png": "[encoded data removed]"
          },
          "metadata": {
            "needs_background": "light"
          }
        }
      ]
    },
    {
      "cell_type": "code",
      "source": [],
      "metadata": {
        "id": "UIR-GQIuvHbj"
      },
      "execution_count": null,
      "outputs": []
    }
  ]
}