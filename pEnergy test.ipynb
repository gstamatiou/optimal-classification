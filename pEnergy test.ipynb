{
 "cells": [
  {
   "cell_type": "code",
   "execution_count": 1,
   "id": "552ed460",
   "metadata": {},
   "outputs": [
    {
     "name": "stdout",
     "output_type": "stream",
     "text": [
      "-2.6645352591003757e-15\n",
      "1.7763568394002505e-14\n",
      "7.275957614183426e-12\n",
      "0.0\n",
      "8192.0\n"
     ]
    }
   ],
   "source": [
    "from ot_class import *\n",
    "\n",
    "def slow_penergy(u_flattened, W, idx, y, p):\n",
    "    k = y.shape[1]\n",
    "    n = W.shape[0]\n",
    "    m = y.shape[0]\n",
    "    u = u_flattened.reshape((n,k))\n",
    "    gradu = grad(u)\n",
    "    normed_gradu = np.apply_along_axis(np.linalg.norm, 2, gradu)\n",
    "    y_bar = (1/y.shape[0]) * y.sum(axis = 0)\n",
    "    \n",
    "    first_summand = 0\n",
    "    for i in range(n):\n",
    "        for j in range(n):\n",
    "            first_summand += W[i, j] * normed_gradu[i,j] ** p\n",
    "    first_summand = first_summand / (2 * p)\n",
    "\n",
    "    second_summand = np.sum( (y - y_bar) * u[idx] )\n",
    "\n",
    "    return first_summand - second_summand\n",
    "\n",
    "n = 100\n",
    "k = 2\n",
    "\n",
    "X,labels = datasets.make_moons(n_samples=n,noise=0.1)\n",
    "W = gl.weightmatrix.knn(X,10).toarray()\n",
    "train_ind = gl.trainsets.generate(labels, rate=5)\n",
    "train_labels = labels[train_ind]\n",
    "m = train_ind.size\n",
    "\n",
    "\n",
    "y = np.zeros((m, k))\n",
    "for i in range(train_ind.size):\n",
    "    y[i] = euclidean_basis(train_labels[i], k)\n",
    "    \n",
    "\n",
    "u = np.random.random(size = (n,k))\n",
    "\n",
    "for p in [10, 50, 100, 200, 300]:\n",
    "    print(penergy(u.flatten(), W, train_ind, y, p) - slow_penergy(u.flatten(), W, train_ind, y, p))"
   ]
  },
  {
   "cell_type": "code",
   "execution_count": null,
   "id": "7d591801",
   "metadata": {},
   "outputs": [],
   "source": []
  }
 ],
 "metadata": {
  "kernelspec": {
   "display_name": "Python 3 (ipykernel)",
   "language": "python",
   "name": "python3"
  },
  "language_info": {
   "codemirror_mode": {
    "name": "ipython",
    "version": 3
   },
   "file_extension": ".py",
   "mimetype": "text/x-python",
   "name": "python",
   "nbconvert_exporter": "python",
   "pygments_lexer": "ipython3",
   "version": "3.8.13"
  }
 },
 "nbformat": 4,
 "nbformat_minor": 5
}
