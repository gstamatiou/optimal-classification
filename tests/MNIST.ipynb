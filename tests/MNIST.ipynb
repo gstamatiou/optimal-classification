{
 "cells": [
  {
   "cell_type": "code",
   "execution_count": 1,
   "id": "a709d09f",
   "metadata": {
    "colab": {
     "base_uri": "https://localhost:8080/"
    },
    "id": "a709d09f",
    "outputId": "8126d595-b8ef-41f9-b50c-46ef0e15dac1"
   },
   "outputs": [],
   "source": [
    "#!pip install graphlearning\n",
    "#!pip install annoy\n",
    "from ot_class import *"
   ]
  },
  {
   "cell_type": "code",
   "execution_count": 2,
   "id": "45fbff1a",
   "metadata": {
    "colab": {
     "base_uri": "https://localhost:8080/"
    },
    "id": "45fbff1a",
    "outputId": "09d95277-a6ba-4475-a4f6-076041a92e91"
   },
   "outputs": [],
   "source": [
    "sample_size = 100\n",
    "X,labels = gl.datasets.load('mnist')\n",
    "X = X[:sample_size]\n",
    "labels = labels[:sample_size]\n",
    "\n",
    "W = gl.weightmatrix.knn(X,5).toarray()\n",
    "train_ind = gl.trainsets.generate(labels, rate = 3, seed = 1)\n",
    "train_labels = labels[train_ind]\n",
    "euclidean_labels = euclidean_basis(train_labels, 10)"
   ]
  },
  {
   "cell_type": "code",
   "execution_count": 3,
   "id": "158e9a9b",
   "metadata": {
    "id": "158e9a9b"
   },
   "outputs": [],
   "source": [
    "model = gl.ssl.poisson(W, solver='gradient_descent')\n",
    "u = model.fit(train_ind, train_labels)\n",
    "pred_labels = model.predict()\n",
    "\n",
    "pp_model = ppoisson(2, W)\n",
    "my_pred_labels = pp_model.fit_predict(train_ind, euclidean_labels)"
   ]
  },
  {
   "cell_type": "code",
   "execution_count": 4,
   "id": "1lm4AKDV_Cc3",
   "metadata": {
    "colab": {
     "base_uri": "https://localhost:8080/"
    },
    "id": "1lm4AKDV_Cc3",
    "outputId": "3f6f08d4-2053-4259-ff11-7b0f3267d736"
   },
   "outputs": [
    {
     "name": "stdout",
     "output_type": "stream",
     "text": [
      "Energy of GraphLearning Solution: -517.487\n",
      "Energy of custom solution: -552.914\n",
      "Accuracy of custom solution: 71.43%\n",
      "Accuracy of GraphLearn solution: 71.43%\n",
      "Number of different predictions:  2\n",
      "Runtime of custom solution: 0.75m\n"
     ]
    }
   ],
   "source": [
    "print(\"Energy of GraphLearning Solution: %.3f\"%penergy(u.flatten(), W, train_ind, euclidean_labels, 2))\n",
    "print(\"Energy of custom solution: %.3f\"%penergy(pp_model.u.flatten(), W, train_ind, euclidean_labels, 2))\n",
    "print(\"Accuracy of custom solution: %.2f%%\"%gl.ssl.ssl_accuracy(pp_model.predict(), labels, len(train_ind)))\n",
    "print(\"Accuracy of GraphLearn solution: %.2f%%\"%gl.ssl.ssl_accuracy(pred_labels, labels, len(train_ind)))\n",
    "print(\"Number of different predictions: \", np.count_nonzero(pp_model.predict() - pred_labels))\n",
    "print(\"Runtime of custom solution: %.2fm\"%pp_model.runtime)"
   ]
  },
  {
   "cell_type": "code",
   "execution_count": 6,
   "id": "0e31591d",
   "metadata": {
    "colab": {
     "base_uri": "https://localhost:8080/"
    },
    "id": "0e31591d",
    "outputId": "989836df-2247-4c9d-fc0d-e71700319a41",
    "scrolled": false
   },
   "outputs": [
    {
     "name": "stdout",
     "output_type": "stream",
     "text": [
      "########### Gradient Descent (w/ Jacobian) for p = 2\n",
      "Energy = -552.91\n",
      "Discrepancies = 2\n",
      "Accuracy = 71.43%\n",
      "Runtime = 0.71 min\n",
      "########### Gradient Descent (w/ Jacobian) for p = 4\n",
      "Energy = -100.56\n",
      "Discrepancies = 7\n",
      "Accuracy = 67.14%\n",
      "Runtime = 1.98 min\n",
      "########### Gradient Descent (w/ Jacobian) for p = 8\n",
      "Energy = -64.26\n",
      "Discrepancies = 10\n",
      "Accuracy = 67.14%\n",
      "Runtime = 4.67 min\n",
      "########### Gradient Descent (w/ Jacobian) for p = 16\n",
      "Energy = -53.50\n",
      "Discrepancies = 13\n",
      "Accuracy = 64.29%\n",
      "Runtime = 4.95 min\n",
      "########### Gradient Descent (w/ Jacobian) for p = 32\n",
      "Energy = -49.11\n",
      "Discrepancies = 12\n",
      "Accuracy = 65.71%\n",
      "Runtime = 4.85 min\n",
      "########### Gradient Descent (w/ Jacobian) for p = 64\n",
      "Energy = -18.52\n",
      "Discrepancies = 12\n",
      "Accuracy = 65.71%\n",
      "Runtime = 4.53 min\n",
      "########### Gradient Descent (w/ Jacobian) for p = 100\n",
      "Energy = 2285.58\n",
      "Discrepancies = 12\n",
      "Accuracy = 65.71%\n",
      "Runtime = 0.03 min\n",
      "########### Gradient Descent (w/ Jacobian) for p = 110\n",
      "Energy = 8379.91\n",
      "Discrepancies = 12\n",
      "Accuracy = 65.71%\n",
      "Runtime = 0.02 min\n",
      "########### Gradient Descent (w/ Jacobian) for p = 120\n",
      "Energy = 31259.31\n",
      "Discrepancies = 12\n",
      "Accuracy = 65.71%\n",
      "Runtime = 0.07 min\n"
     ]
    },
    {
     "name": "stderr",
     "output_type": "stream",
     "text": [
      "/home/user/.local/lib/python3.8/site-packages/scipy/optimize/_hessian_update_strategy.py:182: UserWarning: delta_grad == 0.0. Check if the approximated function is linear. If the function is linear better results can be obtained by defining the Hessian as zero instead of using quasi-Newton approximations.\n",
      "  warn('delta_grad == 0.0. Check if the approximated '\n"
     ]
    },
    {
     "name": "stdout",
     "output_type": "stream",
     "text": [
      "########### Gradient Descent (w/ Jacobian) for p = 130\n",
      "Energy = 119108.38\n",
      "Discrepancies = 12\n",
      "Accuracy = 65.71%\n",
      "Runtime = 0.05 min\n",
      "########### Gradient Descent (w/ Jacobian) for p = 140\n",
      "Energy = 462996.22\n",
      "Discrepancies = 12\n",
      "Accuracy = 65.71%\n",
      "Runtime = 0.02 min\n",
      "########### Gradient Descent (w/ Jacobian) for p = 150\n",
      "Energy = 1831666.72\n",
      "Discrepancies = 12\n",
      "Accuracy = 65.71%\n",
      "Runtime = 0.02 min\n",
      "########### Gradient Descent (w/ Jacobian) for p = 160\n",
      "Energy = 7357214.79\n",
      "Discrepancies = 12\n",
      "Accuracy = 65.71%\n",
      "Runtime = 0.02 min\n",
      "########### Gradient Descent (w/ Jacobian) for p = 170\n",
      "Energy = 29940748.34\n",
      "Discrepancies = 12\n",
      "Accuracy = 65.71%\n",
      "Runtime = 0.02 min\n",
      "########### Gradient Descent (w/ Jacobian) for p = 180\n",
      "Energy = 123228981.91\n",
      "Discrepancies = 12\n",
      "Accuracy = 65.71%\n",
      "Runtime = 0.02 min\n",
      "########### Gradient Descent (w/ Jacobian) for p = 190\n",
      "Energy = 512159656.66\n",
      "Discrepancies = 12\n",
      "Accuracy = 65.71%\n",
      "Runtime = 0.02 min\n",
      "########### Gradient Descent (w/ Jacobian) for p = 200\n",
      "Energy = 2146777384.62\n",
      "Discrepancies = 12\n",
      "Accuracy = 65.71%\n",
      "Runtime = 0.02 min\n",
      "########### Gradient Descent (w/ Jacobian) for p = 210\n",
      "Energy = 9065541104.94\n",
      "Discrepancies = 12\n",
      "Accuracy = 65.71%\n",
      "Runtime = 0.02 min\n",
      "########### Gradient Descent (w/ Jacobian) for p = 220\n",
      "Energy = 38533278225.13\n",
      "Discrepancies = 12\n",
      "Accuracy = 65.71%\n",
      "Runtime = 0.01 min\n",
      "########### Gradient Descent (w/ Jacobian) for p = 230\n",
      "Energy = 164735077767.01\n",
      "Discrepancies = 12\n",
      "Accuracy = 65.71%\n",
      "Runtime = 0.02 min\n",
      "########### Gradient Descent (w/ Jacobian) for p = 240\n",
      "Energy = 707893381488.88\n",
      "Discrepancies = 12\n",
      "Accuracy = 65.71%\n",
      "Runtime = 0.02 min\n",
      "########### Gradient Descent (w/ Jacobian) for p = 250\n",
      "Energy = 3055958478584.63\n",
      "Discrepancies = 12\n",
      "Accuracy = 65.71%\n",
      "Runtime = 0.02 min\n",
      "########### Gradient Descent (w/ Jacobian) for p = 260\n",
      "Energy = 13247261880145.40\n",
      "Discrepancies = 12\n",
      "Accuracy = 65.71%\n",
      "Runtime = 0.02 min\n",
      "########### Gradient Descent (w/ Jacobian) for p = 270\n",
      "Energy = 57641337677905.62\n",
      "Discrepancies = 12\n",
      "Accuracy = 65.71%\n",
      "Runtime = 0.02 min\n",
      "########### Gradient Descent (w/ Jacobian) for p = 280\n",
      "Energy = 251666447620563.31\n",
      "Discrepancies = 12\n",
      "Accuracy = 65.71%\n",
      "Runtime = 0.02 min\n",
      "########### Gradient Descent (w/ Jacobian) for p = 290\n",
      "Energy = 1102233938682712.50\n",
      "Discrepancies = 12\n",
      "Accuracy = 65.71%\n",
      "Runtime = 0.02 min\n",
      "########### Gradient Descent (w/ Jacobian) for p = 300\n",
      "Energy = 4841385618455437.00\n",
      "Discrepancies = 12\n",
      "Accuracy = 65.71%\n",
      "Runtime = 0.02 min\n"
     ]
    }
   ],
   "source": [
    "p_vals = [2, 4, 8, 16, 32, 64, 100, 110, 120, 130, 140, 150, 160, 170, 180, 190, 200, 210, 220, 230, 240, 250, 260, 270, 280, 290, 300]\n",
    "k = 10\n",
    "\n",
    "try:\n",
    "    models\n",
    "except:\n",
    "    models = {}\n",
    "else:\n",
    "    pass\n",
    "\n",
    "models['GraphLearning'] = gl.ssl.poisson(W, solver='gradient_descent')\n",
    "u = models['GraphLearning'].fit(train_ind, train_labels)\n",
    "pred_labels = predict(u)\n",
    "my_u = u\n",
    "\n",
    "# Run and plot for varying p\n",
    "for p in p_vals:\n",
    "    models[p] = ppoisson(p, W)\n",
    "    my_u = models[p].fit(train_ind, euclidean_labels, my_u.flatten())\n",
    "    my_pred_labels = models[p].predict()\n",
    "\n",
    "    discrepancies = np.count_nonzero(my_pred_labels - pred_labels)\n",
    "    accuracy = gl.ssl.ssl_accuracy(my_pred_labels, labels, len(train_ind))\n",
    "    energy = np.around(penergy(models[p].u.flatten(), W, train_ind, euclidean_labels, p), 2)\n",
    "    \n",
    "    info_str = f\"########### Gradient Descent (w/ Jacobian) for p = {p}\\n\"\\\n",
    "                    f\"Energy = {energy:.2f}\\n\"\\\n",
    "                    f\"Discrepancies = {discrepancies}\"\\\n",
    "                    f\"\\nAccuracy = {accuracy:.2f}%\\n\"\\\n",
    "                    f\"Runtime = {models[p].runtime:.2f} min\"\n",
    "\n",
    "    print(info_str)\n",
    "    "
   ]
  },
  {
   "cell_type": "code",
   "execution_count": 9,
   "id": "BiMyE9FANkVa",
   "metadata": {
    "colab": {
     "base_uri": "https://localhost:8080/"
    },
    "id": "BiMyE9FANkVa",
    "outputId": "728fe017-fe43-48ce-b2bf-746e139f2203"
   },
   "outputs": [
    {
     "name": "stdout",
     "output_type": "stream",
     "text": [
      "0.0\n",
      "0.0\n"
     ]
    }
   ],
   "source": [
    "print(np.linalg.norm(models[300].u - models[290].u))\n",
    "print(np.linalg.norm(models[300].u - models[150].u))"
   ]
  },
  {
   "cell_type": "markdown",
   "id": "1_s84z21JDlA",
   "metadata": {
    "id": "1_s84z21JDlA"
   },
   "source": [
    "# Load models"
   ]
  },
  {
   "cell_type": "code",
   "execution_count": 7,
   "id": "8IaeR15jJGFa",
   "metadata": {
    "id": "8IaeR15jJGFa"
   },
   "outputs": [],
   "source": [
    "#load_models()"
   ]
  },
  {
   "cell_type": "markdown",
   "id": "SyYa_aJCJOWl",
   "metadata": {
    "id": "SyYa_aJCJOWl"
   },
   "source": [
    "# Save models"
   ]
  },
  {
   "cell_type": "code",
   "execution_count": 7,
   "id": "SgfbxcOcJOWp",
   "metadata": {
    "id": "SgfbxcOcJOWp"
   },
   "outputs": [],
   "source": [
    "save_models(models, \"mnist_data.pickle\")"
   ]
  },
  {
   "cell_type": "markdown",
   "id": "2638636a",
   "metadata": {},
   "source": [
    "# Create graph"
   ]
  },
  {
   "cell_type": "code",
   "execution_count": 126,
   "id": "9c9eedd2",
   "metadata": {},
   "outputs": [
    {
     "data": {
      "text/plain": [
       "0"
      ]
     },
     "execution_count": 126,
     "metadata": {},
     "output_type": "execute_result"
    }
   ],
   "source": [
    "create_graph(X, max_width = 30, graph_size = 50)"
   ]
  },
  {
   "cell_type": "code",
   "execution_count": null,
   "id": "4516fb16",
   "metadata": {},
   "outputs": [],
   "source": []
  }
 ],
 "metadata": {
  "colab": {
   "provenance": []
  },
  "kernelspec": {
   "display_name": "Python 3 (ipykernel)",
   "language": "python",
   "name": "python3"
  },
  "language_info": {
   "codemirror_mode": {
    "name": "ipython",
    "version": 3
   },
   "file_extension": ".py",
   "mimetype": "text/x-python",
   "name": "python",
   "nbconvert_exporter": "python",
   "pygments_lexer": "ipython3",
   "version": "3.9.13"
  },
  "notify_time": "5"
 },
 "nbformat": 4,
 "nbformat_minor": 5
}
