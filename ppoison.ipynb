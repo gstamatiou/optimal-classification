{
 "cells": [
  {
   "cell_type": "code",
   "execution_count": 2,
   "id": "06302a40",
   "metadata": {},
   "outputs": [],
   "source": [
    "import numpy as np\n",
    "import matplotlib.pyplot as plt\n",
    "import graphlearning as gl\n",
    "from scipy.optimize import minimize, LinearConstraint\n",
    "import sklearn.datasets as datasets\n",
    "import scipy"
   ]
  },
  {
   "cell_type": "markdown",
   "id": "6dc3e8e1",
   "metadata": {},
   "source": [
    "$$I[u] = \\frac{1}{2p} \\sum_{i,j=1}^n w_{i j} | \\nabla u(x_i,x_j) |^p - \\sum_{j=1}^m(y_j - \\bar{y}) \\cdot u(x_j)$$\n",
    "where $$ \\nabla u(x_i, x_j) = u(x_j) - u(x_i) $$"
   ]
  },
  {
   "cell_type": "code",
   "execution_count": 3,
   "id": "6e334e24",
   "metadata": {},
   "outputs": [
    {
     "name": "stdout",
     "output_type": "stream",
     "text": [
      "Minimizer:\n",
      " [[ 1.66666669e-01 -1.66666669e-01]\n",
      " [-1.66666669e-01  1.66666669e-01]\n",
      " [ 3.11035723e-18  3.11035723e-18]]\n",
      "Energy of minimizer: -0.16666666666666663\n",
      "Negative Laplacian values:\n",
      "[ 0.50000001 -0.50000001]\n",
      "[-0.50000001  0.50000001]\n",
      "[0. 0.]\n",
      "Labels: [0 1 0]\n"
     ]
    }
   ],
   "source": [
    "# Calculates vector of degrees for the weight matrix W\n",
    "# W: (n,k) numpy array\n",
    "    \n",
    "def degrees(W):\n",
    "    return W.sum(axis = 1)\n",
    "\n",
    "# Example\n",
    "# Calculates degrees of equilateral triangle\n",
    "# W = np.array([[0, 1, 1], [1,0,1], [1,1,0]])\n",
    "# print(degrees(W))\n",
    "\n",
    "\"\"\"\n",
    "Computes the gradient of u\n",
    "u: (n,k) matrix\n",
    "\"\"\"\n",
    "def grad(u):\n",
    "    n = u.shape[0]\n",
    "    k = u.shape[1]\n",
    "    gradu = np.zeros((n,n,k))\n",
    "    for i in range(n):\n",
    "        for j in range(n):\n",
    "            gradu[i][j] = u[j] - u[i]\n",
    "    return gradu\n",
    "            \n",
    "\"\"\"\n",
    "u_flattened: n*k matrix\n",
    "W: weight matrix\n",
    "y: (m,k) matrix\n",
    "idx = vector of labelled indices\n",
    "p = p constant for laplace operator\n",
    "\"\"\"\n",
    "def penergy(u_flattened, W, idx, y, p):\n",
    "    k = y.shape[1]\n",
    "    n = int(u_flattened.size/k)\n",
    "    u = u_flattened.reshape((n,k))\n",
    "    gradu = grad(u)\n",
    "    y_bar = (1/y.shape[0]) * y.sum(axis = 0)\n",
    "    \n",
    "    first_summand = (1/(2*p)) * (W * (np.apply_along_axis(np.linalg.norm, 2, gradu) ** p)).sum()\n",
    "    second_summand = np.sum( (y - y_bar) * u[idx] )\n",
    "\n",
    "    return first_summand - second_summand\n",
    "\n",
    "# ## Example (see pdf)\n",
    "# u = np.array([[1,0], [0,1], [1/2, 1/2]])\n",
    "# print(grad(u))\n",
    "# y = np.array([[1,0], [0,1]])\n",
    "# W = np.array([[0, 1, 1], [1,0,1], [1,1,0]])\n",
    "# idx = [0, 1]\n",
    "# p = 2\n",
    "\n",
    "# #print(np.apply_along_axis(np.linalg.norm, 2, grad(u)))\n",
    "# print(\"2-energy is\", penergy(u, W, idx, y, 2))\n",
    "# print(\"3-energy is\", penergy(u, W, idx, y, 3))\n",
    "\n",
    "# Returns the ith vector of the usual basis of R^k\n",
    "# Index starts at 0\n",
    "def euclidean_basis(i, k):\n",
    "    eye = np.eye(k)\n",
    "    return eye[i]\n",
    "\n",
    "# Example\n",
    "# print(euclidean_basis(0, 4))\n",
    "# print(euclidean_basis(2, 4))\n",
    "\n",
    "# Returns the labels that u predicts\n",
    "def predict(u):\n",
    "    return np.argmax(u, axis = 1)\n",
    "\n",
    "# Solves the p-poisson equation on a graph with weight matrix W\n",
    "# and labels y on the elements with indices idx\n",
    "# using gradient descent\n",
    "def gradient_ppoisson(W, idx, y, p):\n",
    "    d = degrees(W)\n",
    "    n = W.shape[0]\n",
    "    k = y.shape[1]\n",
    "    eye = np.eye(k)\n",
    "\n",
    "    constrain_matrix = np.concatenate([d[i] * eye for i in range(n)], axis = 1)\n",
    "    linear_constraint = LinearConstraint(constrain_matrix, np.zeros(k), np.zeros(k))\n",
    "    \n",
    "    res = minimize(penergy, x0 = np.zeros(n * k), args = (W, idx, y, p), method = 'trust-constr', constraints = linear_constraint)\n",
    "    u = res.x.reshape(n,k)\n",
    "    \n",
    "    return u\n",
    "\n",
    "# Example\n",
    "y = np.array([[1,0], [0,1]])\n",
    "W = np.array([[0, 1, 1], [1,0,1], [1,1,0]])\n",
    "idx = [0, 1]\n",
    "p = 2\n",
    "\n",
    "u = gradient_ppoisson(W, idx, y, p)\n",
    "print(\"Minimizer:\\n\", u)\n",
    "print(\"Energy of minimizer:\", penergy(u, W, idx, y, p))\n",
    "print(\"Negative Laplacian values:\", 2*u[0]-u[1]-u[2], 2*u[1]-u[0]-u[2], 2*u[2]-u[0]-u[1], sep=\"\\n\")\n",
    "print(\"Labels:\", predict(u))"
   ]
  },
  {
   "cell_type": "markdown",
   "id": "21961ba6",
   "metadata": {},
   "source": [
    "### Functions made for debugging"
   ]
  },
  {
   "cell_type": "code",
   "execution_count": 4,
   "id": "0bf95a07",
   "metadata": {},
   "outputs": [],
   "source": [
    "def slow_penergy(u_flattened, W, idx, y, p):\n",
    "    k = y.shape[1]\n",
    "    n = int(u_flattened.size/k)\n",
    "    m = y.shape[0]\n",
    "    u = u_flattened.reshape((n,k))\n",
    "    gradu = grad(u)\n",
    "    \n",
    "    y_bar = (1/y.shape[0]) * y.sum(axis = 0)\n",
    "    \n",
    "    first_summand = 0\n",
    "    for i in range(n):\n",
    "        for j in range(n):\n",
    "            first_summand += np.linalg.norm(gradu[i,j])**p\n",
    "    first_summand /= 2 * p\n",
    "    \n",
    "    second_summand = 0\n",
    "    for j in range(m):\n",
    "        second_summand += np.inner( (y[j]-y_bar), u[j])\n",
    "    \n",
    "    return first_summand - second_summand\n",
    "\n",
    "def started_gradient_ppoisson(W, idx, y, p, start):\n",
    "    d = degrees(W)\n",
    "    n = W.shape[0]\n",
    "    k = y.shape[1]\n",
    "    eye = np.eye(k)\n",
    "\n",
    "    constrain_matrix = np.concatenate([d[i] * eye for i in range(n)], axis = 1)\n",
    "    # print(constrain_matrix)\n",
    "    linear_constraint = LinearConstraint(constrain_matrix, np.zeros(k), np.zeros(k))\n",
    "    res = minimize(slow_penergy, x0 = start, args = (W, idx, y, p), method = 'trust-constr', constraints = linear_constraint)\n",
    "    u = res.x.reshape(n,k)\n",
    "    \n",
    "    return u"
   ]
  },
  {
   "cell_type": "code",
   "execution_count": 5,
   "id": "c2fa895b",
   "metadata": {},
   "outputs": [
    {
     "name": "stdout",
     "output_type": "stream",
     "text": [
      "GraphLearn solution: \n",
      " [[ 0.16666667 -0.16666667]\n",
      " [-0.16666667  0.16666667]\n",
      " [ 0.          0.        ]]\n",
      "Custom solution: \n",
      " [[ 1.66666669e-01 -1.66666669e-01]\n",
      " [-1.66666669e-01  1.66666669e-01]\n",
      " [ 3.11035723e-18  3.11035723e-18]]\n"
     ]
    }
   ],
   "source": [
    "# Toy example using graph learn\n",
    "y = np.array([[1,0], [0,1]])\n",
    "W = np.array([[0, 1, 1], [1,0,1], [1,1,0]])\n",
    "d = degrees(W)\n",
    "idx = [0, 1]\n",
    "n = 3\n",
    "k = 2\n",
    "p = 2\n",
    "\n",
    "model = gl.ssl.poisson(W)\n",
    "u = model.fit(idx, np.array([0, 1]))\n",
    "# print(2*u[0]-u[1]-u[2])\n",
    "# print(2*u[1]-u[0]-u[2])\n",
    "# print(2*u[2]-u[0]-u[1])\n",
    "# print(u[0] + u[1] + u[2])\n",
    "print(\"GraphLearn solution: \\n\", u)\n",
    "\n",
    "# Toy example using custom implementation\n",
    "my_u = gradient_ppoisson(W, idx, y, p)\n",
    "print(\"Custom solution: \\n\", my_u)"
   ]
  },
  {
   "cell_type": "code",
   "execution_count": 6,
   "id": "6b92a6b1",
   "metadata": {
    "scrolled": true
   },
   "outputs": [
    {
     "name": "stdout",
     "output_type": "stream",
     "text": [
      "Energy of GraphLearning Solution: -4.995925546920404\n",
      "Energy of custom solution: -4.996327701486601\n",
      "Accuracy of custom solution: 60.0\n",
      "Accuracy of GraphLearn solution: 60.0\n",
      "Number of different predictions 40\n"
     ]
    },
    {
     "data": {
      "image/png": "[encoded data removed]",
      "text/plain": [
       "<Figure size 432x288 with 2 Axes>"
      ]
     },
     "metadata": {
      "needs_background": "light"
     },
     "output_type": "display_data"
    }
   ],
   "source": [
    "n = 20\n",
    "k = 2\n",
    "\n",
    "# Generate training data and label sets\n",
    "X,labels = datasets.make_moons(n_samples=n,noise=0.1)\n",
    "W = gl.weightmatrix.knn(X,10).toarray()\n",
    "\n",
    "train_ind = gl.trainsets.generate(labels, rate=5)\n",
    "train_labels = labels[train_ind]\n",
    "m = train_ind.size\n",
    "\n",
    "y = np.zeros((m, k))\n",
    "for i in range(train_ind.size):\n",
    "    y[i] = euclidean_basis(train_labels[i], k)\n",
    "    \n",
    "# Custom Gradient Descent\n",
    "my_u = gradient_ppoisson(W, train_ind, y, p = 2)\n",
    "my_pred_labels = predict(my_u)\n",
    "\n",
    "fig, ax = plt.subplots(ncols = 2)\n",
    "fig.tight_layout()\n",
    "\n",
    "ax[0].scatter(X[:,0],X[:,1], c=my_pred_labels)\n",
    "ax[0].scatter(X[train_ind,0],X[train_ind,1], marker='x')\n",
    "ax[0].set_title(\"Custom Gradient Descent\")\n",
    "\n",
    "# Using graph learning toolkit\n",
    "train_labels = labels[train_ind]\n",
    "\n",
    "model = gl.ssl.poisson(W, solver='gradient_descent')\n",
    "u = model.fit(train_ind, train_labels)\n",
    "pred_labels = predict(u)\n",
    "ax[1].scatter(X[:,0],X[:,1], c=pred_labels)\n",
    "ax[1].scatter(X[train_ind,0],X[train_ind,1], marker='x')\n",
    "ax[1].set_title(\"Custom GradDescent\")\n",
    "\n",
    "print(\"Energy of GraphLearning Solution:\", penergy(u.flatten(), W, train_ind, y, p))\n",
    "print(\"Energy of custom solution:\", penergy(my_u.flatten(), W, train_ind, y, p))\n",
    "print(\"Accuracy of custom solution:\", gl.ssl.ssl_accuracy(my_pred_labels, labels, len(train_ind)))\n",
    "print(\"Accuracy of GraphLearn solution:\", gl.ssl.ssl_accuracy(pred_labels, labels, len(train_ind)))\n",
    "print(\"Number of different predictions\", np.count_nonzero(my_u - u))\n",
    "\n",
    "plt.show()"
   ]
  },
  {
   "cell_type": "code",
   "execution_count": 8,
   "id": "88eb0e8d",
   "metadata": {},
   "outputs": [
    {
     "name": "stdout",
     "output_type": "stream",
     "text": [
      "########### GraphLearning\n",
      "Energy = -2.90\n",
      "Accuracy=40.00%\n",
      "########### Custom Gradient Descent for p = 2\n",
      "Energy = -2.90\n",
      "Discrepancies = 0\n",
      "Accuracy=40.00%\n",
      "########### Custom Gradient Descent for p = 4\n",
      "Energy = -4.17\n",
      "Discrepancies = 0\n",
      "Accuracy=40.00%\n",
      "########### Custom Gradient Descent for p = 8\n",
      "Energy = -4.08\n",
      "Discrepancies = 0\n",
      "Accuracy=40.00%\n",
      "########### Custom Gradient Descent for p = 16\n",
      "Energy = -3.79\n",
      "Discrepancies = 1\n",
      "Accuracy=60.00%\n",
      "########### Custom Gradient Descent for p = 32\n",
      "Energy = -2.24\n",
      "Discrepancies = 4\n",
      "Accuracy=40.00%\n"
     ]
    },
    {
     "data": {
      "image/png": "[encoded data removed]",
      "text/plain": [
       "<Figure size 576x576 with 6 Axes>"
      ]
     },
     "metadata": {
      "needs_background": "light"
     },
     "output_type": "display_data"
    }
   ],
   "source": [
    "n = 15\n",
    "k = 2\n",
    "p_vals = [[0, 2], [4, 8], [16, 32]]\n",
    "\n",
    "# Array holding infos for each p\n",
    "info_str = p_vals\n",
    "\n",
    "# Generate training data and label sets\n",
    "X,labels = datasets.make_moons(n_samples=n,noise=0.1)\n",
    "W = gl.weightmatrix.knn(X,10).toarray()\n",
    "\n",
    "train_ind = gl.trainsets.generate(labels, rate=5)\n",
    "train_labels = labels[train_ind]\n",
    "m = train_ind.size\n",
    "\n",
    "y = np.zeros((m, k))\n",
    "for i in range(train_ind.size):\n",
    "    y[i] = euclidean_basis(train_labels[i], k)\n",
    "\n",
    "fig, ax = plt.subplots(nrows = len(p_vals), ncols = len(p_vals[0]), figsize = (8, 8))\n",
    "fig.tight_layout()\n",
    "\n",
    "# Run and plot for varying p\n",
    "for i in range(len(p_vals)):\n",
    "    for j in range(len(p_vals[i])):\n",
    "        p = p_vals[i][j]\n",
    "\n",
    "        if p == 0: # Apply GraphLearning\n",
    "            model = gl.ssl.poisson(W, solver='gradient_descent')\n",
    "            u = model.fit(train_ind, train_labels)\n",
    "            pred_labels = predict(u)\n",
    "\n",
    "            accuracy = gl.ssl.ssl_accuracy(pred_labels, labels, len(train_ind))\n",
    "            energy = np.around(penergy(u.flatten(), W, train_ind, y, 2), 2)\n",
    "\n",
    "            info_str[i][j] = f\"########### GraphLearning\\n\"\\\n",
    "                            f\"Energy = {energy:.2f}\\n\"\\\n",
    "                            f\"Accuracy = {accuracy:.2f}%\" \n",
    "            ax[i, j].scatter(X[:,0],X[:,1], c=pred_labels)\n",
    "            ax[i, j].scatter(X[train_ind,0],X[train_ind,1], marker='x', label = \"Labeled nodes\")\n",
    "            ax[i, j].set_title(f\"GraphLearn gradient descent\")\n",
    "\n",
    "        else: # Apply custom learning\n",
    "            my_u = gradient_ppoisson(W, train_ind, y, p)\n",
    "            my_pred_labels = predict(my_u)\n",
    "\n",
    "            discrepancies = np.count_nonzero(my_pred_labels - pred_labels)\n",
    "            accuracy = gl.ssl.ssl_accuracy(my_pred_labels, labels, len(train_ind))\n",
    "            energy = np.around(penergy(my_u.flatten(), W, train_ind, y, p), 2)\n",
    "            info_str[i][j] = f\"########### Custom Gradient Descent for p = {p}\\n\"\\\n",
    "                            f\"Energy = {energy:.2f}\\n\"\\\n",
    "                            f\"Discrepancies = {discrepancies}\"\\\n",
    "                            f\"\\nAccuracy = {accuracy:.2f}%\"\n",
    "\n",
    "            ax[i, j].scatter(X[:,0],X[:,1], c=my_pred_labels)\n",
    "            ax[i, j].scatter(X[train_ind,0],X[train_ind,1], marker='x', label = \"Labeled nodes\")\n",
    "            ax[i, j].set_title(f\"p = {p}\")\n",
    "            \n",
    "for i in range(len(info_str)):\n",
    "    for j in range(len(info_str[0])):\n",
    "        print(info_str[i][j])\n",
    "\n",
    "plt.legend()\n",
    "plt.show()"
   ]
  },
  {
   "cell_type": "code",
   "execution_count": 11,
   "id": "71d87f86",
   "metadata": {},
   "outputs": [
    {
     "name": "stdout",
     "output_type": "stream",
     "text": [
      "[[[ 5 11 12]\n",
      "  [ 8  9 11]\n",
      "  [ 5 15  0]\n",
      "  [16  1 12]\n",
      "  [ 7 13  6]]\n",
      "\n",
      " [[18  5 18]\n",
      "  [11 10 14]\n",
      "  [18  4  9]\n",
      "  [17  0 13]\n",
      "  [ 9  9  7]]\n",
      "\n",
      " [[ 1  0 17]\n",
      "  [ 8 13 19]\n",
      "  [15 10  8]\n",
      "  [ 7  3  6]\n",
      "  [17  3  4]]\n",
      "\n",
      " [[17 11 12]\n",
      "  [16 13 19]\n",
      "  [ 9 18 15]\n",
      "  [ 0  4 15]\n",
      "  [ 2  7  8]]]\n",
      "True\n"
     ]
    }
   ],
   "source": [
    "np.random.seed(1)\n",
    "a = np.random.randint(20, size=(4,5, 3))\n",
    "b = np.zeros((4,5,3))\n",
    "print(a)\n",
    "for i0 in range(a.shape[0]):\n",
    "    for i1 in range(a.shape[1]):\n",
    "        for j0 in range(a.shape[2]):\n",
    "            # print(i0, i1, j0)\n",
    "            b[i0,i1,j0] = a.flatten()[i0 * a.shape[2]*a.shape[1] + i1 * a.shape[2] + j0]\n",
    "            # print(a.flatten()[i0 * a.shape[2]*a.shape[1] + i1 * a.shape[2] + j0])\n",
    "print(np.array_equiv(a,b))"
   ]
  },
  {
   "cell_type": "code",
   "execution_count": 10,
   "id": "60abc02d-60ae-4cb0-9e0a-ec7139ff4a20",
   "metadata": {},
   "outputs": [
    {
     "name": "stdout",
     "output_type": "stream",
     "text": [
      "True\n"
     ]
    }
   ],
   "source": [
    "np.random.seed(1)\n",
    "n0, n1, n2, n3 = [4, 5, 3, 2]\n",
    "\n",
    "a = np.random.randint(20, size=(n0, n1, n2, n3))\n",
    "b = np.zeros((n0, n1, n2, n3))\n",
    "\n",
    "for i0 in range(a.shape[0]):\n",
    "    for i1 in range(a.shape[1]):\n",
    "        for j0 in range(a.shape[2]):\n",
    "            for j1 in range(a.shape[3]):\n",
    "                b[i0,i1,j0, j1] = a.flatten()[i0 * a.shape[3]*a.shape[2]*a.shape[1] + i1 * a.shape[3] *a.shape[2] + j0 * a.shape[3] + j1]\n",
    "                \n",
    "print(np.array_equiv(a,b))"
   ]
  },
  {
   "cell_type": "code",
   "execution_count": 24,
   "id": "77dc7d22",
   "metadata": {},
   "outputs": [
    {
     "name": "stdout",
     "output_type": "stream",
     "text": [
      "[[0 5 1 8]\n",
      " [5 0 2 0]\n",
      " [1 2 0 0]\n",
      " [8 0 0 0]]\n",
      "[1 2 3 0 2 0 1 0]\n",
      "[0 0 0 1 1 2 2 3]\n",
      "[[[ 0  0  0]\n",
      "  [ 2 -5 -6]\n",
      "  [ 3  1 -2]\n",
      "  [ 4 -2  0]]\n",
      "\n",
      " [[-2  5  6]\n",
      "  [ 0  0  0]\n",
      "  [ 1  6  4]\n",
      "  [ 2  3  6]]\n",
      "\n",
      " [[-3 -1  2]\n",
      "  [-1 -6 -4]\n",
      "  [ 0  0  0]\n",
      "  [ 1 -3  2]]\n",
      "\n",
      " [[-4  2  0]\n",
      "  [-2 -3 -6]\n",
      "  [-1  3 -2]\n",
      "  [ 0  0  0]]]\n"
     ]
    }
   ],
   "source": [
    "W = scipy.sparse.csr_matrix([ [0, 5, 1, 8], [5, 0, 2, 0], [1, 2, 0, 0], [8, 0, 0, 0] ])\n",
    "u = np.array([ [4, 3, 1], [2, 8, 7], [1, 2, 3], [0, 5, 1] ])\n",
    "print(W.toarray())\n",
    "I, J, V = scipy.sparse.find(W)\n",
    "print(I)\n",
    "print(J)\n",
    "# print(u[I])\n",
    "# print(u[J])\n",
    "#Grad = scipy.sparse.coo_matrix((u[J]-u[I], (I,J)),shape=(4,4,3)).tocsr()\n",
    "gradu = u[:, np.newaxis] - u\n",
    "print(gradu)"
   ]
  },
  {
   "cell_type": "code",
   "execution_count": 22,
   "id": "96e74949",
   "metadata": {},
   "outputs": [
    {
     "name": "stdout",
     "output_type": "stream",
     "text": [
      "[[18  0  0  5  1]\n",
      " [18 15  8 19  2]\n",
      " [ 8 17 18 12  1]\n",
      " [ 9 14 19 10  3]]\n"
     ]
    },
    {
     "data": {
      "text/plain": [
       "array([[[  0,   0,   0,   0,   0],\n",
       "        [  0, -15,  -8, -14,  -1],\n",
       "        [ 10, -17, -18,  -7,   0],\n",
       "        [  9, -14, -19,  -5,  -2]],\n",
       "\n",
       "       [[  0,  15,   8,  14,   1],\n",
       "        [  0,   0,   0,   0,   0],\n",
       "        [ 10,  -2, -10,   7,   1],\n",
       "        [  9,   1, -11,   9,  -1]],\n",
       "\n",
       "       [[-10,  17,  18,   7,   0],\n",
       "        [-10,   2,  10,  -7,  -1],\n",
       "        [  0,   0,   0,   0,   0],\n",
       "        [ -1,   3,  -1,   2,  -2]],\n",
       "\n",
       "       [[ -9,  14,  19,   5,   2],\n",
       "        [ -9,  -1,  11,  -9,   1],\n",
       "        [  1,  -3,   1,  -2,   2],\n",
       "        [  0,   0,   0,   0,   0]]])"
      ]
     },
     "execution_count": 22,
     "metadata": {},
     "output_type": "execute_result"
    }
   ],
   "source": [
    "a = np.random.randint(20, size=(4,5))\n",
    "print(a)\n",
    "a[:, np.newaxis] - a"
   ]
  }
 ],
 "metadata": {
  "kernelspec": {
   "display_name": "Python 3 (ipykernel)",
   "language": "python",
   "name": "python3"
  },
  "language_info": {
   "codemirror_mode": {
    "name": "ipython",
    "version": 3
   },
   "file_extension": ".py",
   "mimetype": "text/x-python",
   "name": "python",
   "nbconvert_exporter": "python",
   "pygments_lexer": "ipython3",
   "version": "3.8.10"
  }
 },
 "nbformat": 4,
 "nbformat_minor": 5
}
