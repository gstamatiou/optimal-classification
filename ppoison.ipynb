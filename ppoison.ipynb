{
 "cells": [
  {
   "cell_type": "code",
   "execution_count": 72,
   "id": "06302a40",
   "metadata": {},
   "outputs": [],
   "source": [
    "import numpy as np\n",
    "import matplotlib.pyplot as plt\n",
    "import graphlearning as gl\n",
    "from scipy.optimize import minimize, LinearConstraint\n",
    "import sklearn.datasets as datasets\n"
   ]
  },
  {
   "cell_type": "markdown",
   "id": "cb1c64b6",
   "metadata": {},
   "source": [
    "Generate a sample of size 2 * n containing n data points from each class.\n",
    "All data points are sampled from a dim-dimensional Gaussian."
   ]
  },
  {
   "cell_type": "code",
   "execution_count": 18,
   "id": "4f2142de",
   "metadata": {},
   "outputs": [
    {
     "name": "stdout",
     "output_type": "stream",
     "text": [
      "[[3.1 3.6]\n",
      " [1.6 3.2]\n",
      " [2.6 2.4]\n",
      " [3.2 3.5]\n",
      " [3.7 2. ]\n",
      " [2.5 3.2]\n",
      " [2.7 1.4]\n",
      " [4.4 1.1]]\n",
      "[0. 0. 0. 0. 1. 1. 1. 1.]\n"
     ]
    },
    {
     "data": {
      "image/png": "[encoded data removed]",
      "text/plain": [
       "<Figure size 432x288 with 1 Axes>"
      ]
     },
     "metadata": {
      "needs_background": "light"
     },
     "output_type": "display_data"
    }
   ],
   "source": [
    "n = 4 # Sample size from each class\n",
    "dim = 2\n",
    "data = np.zeros((2 * n, dim))\n",
    "mean1, cov1 = [2, 4], (1/2) * np.identity(dim)\n",
    "mean2, cov2 = [4,2], (1/2) * np.identity(dim)\n",
    "np.random.seed(1)\n",
    "data[:n] = np.random.multivariate_normal(mean1, cov1, n)\n",
    "np.random.seed(2)\n",
    "data[n:] = np.random.multivariate_normal(mean2, cov2, n)\n",
    "\n",
    "data = np.around(data, 1) #Round data to 1 decimal\n",
    "#np.random.multivariate_normal([2,4], np.identity(dim), 10)\n",
    "plt.scatter(data[:n, 0], data[:n, 1], label = '0')\n",
    "plt.scatter(data[n:, 0], data[n:, 1], label = '1')\n",
    "plt.legend()\n",
    "print(data)\n",
    "\n",
    "y = np.zeros(2*n)\n",
    "y[n:] = 1\n",
    "print(y)"
   ]
  },
  {
   "cell_type": "code",
   "execution_count": 4,
   "id": "c9a23b7f",
   "metadata": {},
   "outputs": [
    {
     "name": "stdout",
     "output_type": "stream",
     "text": [
      "[[1.         0.         0.         0.92311635 0.         0.12493021\n",
      "  0.         0.        ]\n",
      " [0.         1.         0.         0.         0.         0.0391639\n",
      "  0.         0.        ]\n",
      " [0.         0.         1.         0.         0.         0.07427358\n",
      "  0.         0.        ]\n",
      " [0.92311635 0.         0.         1.         0.         0.09827359\n",
      "  0.         0.        ]\n",
      " [0.         0.         0.         0.         1.         0.\n",
      "  0.         0.        ]\n",
      " [0.12493021 0.0391639  0.07427358 0.09827359 0.         1.\n",
      "  0.         0.        ]\n",
      " [0.         0.         0.         0.         0.         0.\n",
      "  1.         0.        ]\n",
      " [0.         0.         0.         0.         0.         0.\n",
      "  0.         1.        ]]\n"
     ]
    }
   ],
   "source": [
    "W = gl.weightmatrix.epsilon_ball(data, 1)\n",
    "G = gl.graph(W)\n",
    "print(W.toarray())"
   ]
  },
  {
   "cell_type": "markdown",
   "id": "6dc3e8e1",
   "metadata": {},
   "source": [
    "Calculate $$I[u] = \\frac{1}{p} \\sum_{i,j=1}^n | \\nabla u(x_i,x_j) |^p + \\sum_{j=1}^m(y_j - \\bar{y}) \\cdot u(x_j)$$\n",
    "where $$ \\nabla u(x_i, x_j) = u(x_j) - u(x_i) $$"
   ]
  },
  {
   "cell_type": "code",
   "execution_count": 133,
   "id": "991549c4",
   "metadata": {},
   "outputs": [
    {
     "name": "stdout",
     "output_type": "stream",
     "text": [
      "[[[ 0  1]\n",
      "  [ 2  3]]\n",
      "\n",
      " [[ 4  5]\n",
      "  [ 6  7]]\n",
      "\n",
      " [[ 8  9]\n",
      "  [10 11]]\n",
      "\n",
      " [[12 13]\n",
      "  [14 15]]]\n",
      "[[ 1.          6.40312424 12.04159458 17.69180601]\n",
      " [ 3.60555128  9.21954446 14.86606875 20.51828453]]\n"
     ]
    }
   ],
   "source": [
    "a = np.arange(16).reshape((4,2,2))\n",
    "print(a)\n",
    "print(np.apply_along_axis(np.linalg.norm, 2, a).T)"
   ]
  },
  {
   "cell_type": "code",
   "execution_count": 165,
   "id": "4af8520e",
   "metadata": {},
   "outputs": [
    {
     "data": {
      "text/plain": [
       "2.0"
      ]
     },
     "execution_count": 165,
     "metadata": {},
     "output_type": "execute_result"
    }
   ],
   "source": [
    "4.0//2"
   ]
  },
  {
   "cell_type": "code",
   "execution_count": 173,
   "id": "0bf95a07",
   "metadata": {},
   "outputs": [
    {
     "name": "stdout",
     "output_type": "stream",
     "text": [
      "[[0.         1.41421356 0.70710678]\n",
      " [1.41421356 0.         0.70710678]\n",
      " [0.70710678 0.70710678 0.        ]]\n",
      "2.000000000000001\n",
      "1.357022603955159\n"
     ]
    }
   ],
   "source": [
    "\"\"\"\n",
    "Computes the gradient of u\n",
    "u: (n,k) matrix\n",
    "\"\"\"\n",
    "def grad(u, W):\n",
    "    n = u.shape[0]\n",
    "    k = u.shape[1]\n",
    "    gradu = np.zeros((n,n,k))\n",
    "    for i in range(n):\n",
    "        for j in range(n):\n",
    "            gradu[i][j] = u[j] - u[i]\n",
    "    return gradu\n",
    "            \n",
    "\n",
    "\"\"\"\n",
    "u: n*k matrix\n",
    "y: (m,k) matrix\n",
    "idx = vector of labelled indices\n",
    "\"\"\"\n",
    "def penergy(u_flattened, W, idx, y, p):\n",
    "    k = y.shape[1]\n",
    "    n = int(u_flattened.size/k)\n",
    "    u = u_flattened.reshape((n,k))\n",
    "    gradu = grad(u, W)\n",
    "    first_summand = (1/p) * (np.apply_along_axis(np.linalg.norm, 2, gradu) ** p).sum()\n",
    "    y_bar = (1/y.shape[0]) * y.sum(axis = 0)\n",
    "    second_summand = np.sum( (y - y_bar) * u[idx] )\n",
    "    return first_summand - second_summand\n",
    "\n",
    "u = np.array([[1,0], [0,1], [1/2, 1/2]])\n",
    "y = np.array([[1,0], [0,1]])\n",
    "W = np.array([[0, 1, 1], [1,0,1], [1,1,0]])\n",
    "idx = [0, 1]\n",
    "p = 2\n",
    "\n",
    "print(np.apply_along_axis(np.linalg.norm, 2, grad(u, W)))\n",
    "print(penergy(u, W, idx, y, 2))\n",
    "print(penergy(u, W, idx, y, 3))"
   ]
  },
  {
   "cell_type": "code",
   "execution_count": 174,
   "id": "7080cabe",
   "metadata": {},
   "outputs": [
    {
     "name": "stdout",
     "output_type": "stream",
     "text": [
      "[[ 8.33333285e-02 -8.33333285e-02]\n",
      " [-8.33333282e-02  8.33333283e-02]\n",
      " [ 4.78791958e-11 -8.01802276e-11]]\n",
      "-0.08333333333333304\n"
     ]
    }
   ],
   "source": [
    "y = np.array([[1,0], [0,1]])\n",
    "W = np.array([[0, 1, 1], [1,0,1], [1,1,0]])\n",
    "idx = [0, 1]\n",
    "n = 3\n",
    "k = 2\n",
    "p = 2\n",
    "\n",
    "linear_constraint = LinearConstraint(np.ones(n*k), [0], [0])\n",
    "res = minimize(penergy, x0 = np.ones(n * k), args = (W, idx, y, p), method = 'trust-constr', constraints = linear_constraint)\n",
    "print(res.x.reshape(n, k))\n",
    "print(penergy(res.x, W, idx, y, p))"
   ]
  },
  {
   "cell_type": "code",
   "execution_count": 177,
   "id": "4280430d",
   "metadata": {},
   "outputs": [
    {
     "name": "stdout",
     "output_type": "stream",
     "text": [
      "[0 0 0 0 0 0 0 0 0 0 0 0 0 0 0 0 0 0 0 0 0 0 0 0 0 0 0 0 0 0 0 0 0 0 0 0 0\n",
      " 0 0 0 0 0 0 0 0 0 0 0 0 0 0 0 0 0 0 0 0 0 0 0 0 0 0 0 0 0 0 0 0 0 0 0 0 0\n",
      " 0 0 0 0 0 0 0 0 0 0 0 0 0 0 0 0 0 0 0 0 0 0 0 0 0 0 0 0 0 0 0 0 0 0 0 0 0\n",
      " 0 0 0 0 0 0 0 0 0 0 0 0 0 0 0 0 0 0 0 0 0 0 0 0 0 0 0 0 0 0 0 0 0 0 0 0 0\n",
      " 0 0 0 0 0 0 0 0 0 0 0 0 0 0 0 0 0 0 0 0 0 0 0 0 0 0 0 0 0 0 0 0 0 0 0 0 0\n",
      " 0 0 0 0 0 0 0 0 0 0 0 0 0 0 0 0 0 0 0 0 0 0 0 0 0 0 0 0 0 0 0 0 0 0 0 0 0\n",
      " 0 0 0 0 0 0 0 0 0 0 0 0 0 0 0 0 0 0 0 0 0 0 0 0 0 0 0 0 0 0 0 0 0 0 0 0 0\n",
      " 0 0 0 0 0 0 0 0 0 0 0 0 0 0 0 0 0 0 0 0 0 0 0 0 0 0 0 0 0 0 0 0 0 0 0 0 0\n",
      " 0 0 0 0 0 0 0 0 0 0 0 0 0 0 0 0 0 0 0 0 0 0 0 0 0 0 0 0 0 0 0 0 0 0 0 0 0\n",
      " 0 0 0 0 0 0 0 0 0 0 0 0 0 0 0 0 0 0 0 0 0 0 0 0 0 0 0 0 0 0 0 0 0 0 0 0 0\n",
      " 0 0 0 0 0 0 0 0 0 0 0 0 0 0 0 0 0 0 0 0 0 0 0 0 0 0 0 0 0 0 0 0 0 0 0 0 0\n",
      " 0 0 0 0 0 0 0 0 0 0 0 0 0 0 0 0 0 0 0 0 0 0 0 0 0 0 0 0 0 0 0 0 0 0 0 0 0\n",
      " 0 0 0 0 0 0 0 0 0 0 0 0 0 0 0 0 0 0 0 0 0 0 0 0 0 0 0 0 0 0 0 0 0 0 0 0 0\n",
      " 0 0 0 0 0 0 0 0 0 0 0 0 0 0 0 0 0 0 0]\n"
     ]
    }
   ],
   "source": [
    "y = np.array([[1,0], [0,1]])\n",
    "W = np.array([[0, 1, 1], [1,0,1], [1,1,0]])\n",
    "idx = [0, 1]\n",
    "n = 3\n",
    "k = 2\n",
    "p = 2\n",
    "\n",
    "gl.ssl.poisson(W, solver = 'gradient_descent')\n",
    "pred_labels = model.fit_predict(idx, y)\n",
    "print(pred_labels)"
   ]
  },
  {
   "cell_type": "code",
   "execution_count": 175,
   "id": "d5097c28",
   "metadata": {},
   "outputs": [
    {
     "ename": "TypeError",
     "evalue": "penergy() missing 1 required positional argument: 'p'",
     "output_type": "error",
     "traceback": [
      "\u001b[0;31m---------------------------------------------------------------------------\u001b[0m",
      "\u001b[0;31mTypeError\u001b[0m                                 Traceback (most recent call last)",
      "Input \u001b[0;32mIn [175]\u001b[0m, in \u001b[0;36m<cell line: 10>\u001b[0;34m()\u001b[0m\n\u001b[1;32m      7\u001b[0m train_labels \u001b[38;5;241m=\u001b[39m labels[train_ind]\n\u001b[1;32m      9\u001b[0m linear_constraint \u001b[38;5;241m=\u001b[39m LinearConstraint(np\u001b[38;5;241m.\u001b[39marray(G\u001b[38;5;241m.\u001b[39mdegree_vector()), [\u001b[38;5;241m0\u001b[39m], [\u001b[38;5;241m0\u001b[39m])\n\u001b[0;32m---> 10\u001b[0m res \u001b[38;5;241m=\u001b[39m \u001b[43mminimize\u001b[49m\u001b[43m(\u001b[49m\u001b[43mpenergy\u001b[49m\u001b[43m,\u001b[49m\u001b[43m \u001b[49m\u001b[43mx0\u001b[49m\u001b[43m \u001b[49m\u001b[38;5;241;43m=\u001b[39;49m\u001b[43m \u001b[49m\u001b[43mnp\u001b[49m\u001b[38;5;241;43m.\u001b[39;49m\u001b[43mones\u001b[49m\u001b[43m(\u001b[49m\u001b[38;5;241;43m500\u001b[39;49m\u001b[43m)\u001b[49m\u001b[43m,\u001b[49m\u001b[43m \u001b[49m\u001b[43margs\u001b[49m\u001b[43m \u001b[49m\u001b[38;5;241;43m=\u001b[39;49m\u001b[43m \u001b[49m\u001b[43m(\u001b[49m\u001b[43mG\u001b[49m\u001b[43m,\u001b[49m\u001b[43m \u001b[49m\u001b[43mlabels\u001b[49m\u001b[43m,\u001b[49m\u001b[43m \u001b[49m\u001b[43mp\u001b[49m\u001b[43m)\u001b[49m\u001b[43m,\u001b[49m\u001b[43m \u001b[49m\u001b[43mmethod\u001b[49m\u001b[43m \u001b[49m\u001b[38;5;241;43m=\u001b[39;49m\u001b[43m \u001b[49m\u001b[38;5;124;43m'\u001b[39;49m\u001b[38;5;124;43mtrust-constr\u001b[39;49m\u001b[38;5;124;43m'\u001b[39;49m\u001b[43m,\u001b[49m\u001b[43m \u001b[49m\u001b[43mconstraints\u001b[49m\u001b[43m \u001b[49m\u001b[38;5;241;43m=\u001b[39;49m\u001b[43m \u001b[49m\u001b[43mlinear_constraint\u001b[49m\u001b[43m,\u001b[49m\u001b[43m \u001b[49m\u001b[43moptions\u001b[49m\u001b[43m \u001b[49m\u001b[38;5;241;43m=\u001b[39;49m\u001b[43m \u001b[49m\u001b[43m{\u001b[49m\u001b[38;5;124;43m'\u001b[39;49m\u001b[38;5;124;43mmaxiter\u001b[39;49m\u001b[38;5;124;43m'\u001b[39;49m\u001b[43m:\u001b[49m\u001b[38;5;241;43m50\u001b[39;49m\u001b[43m,\u001b[49m\u001b[43m \u001b[49m\u001b[38;5;124;43m'\u001b[39;49m\u001b[38;5;124;43mdisp\u001b[39;49m\u001b[38;5;124;43m'\u001b[39;49m\u001b[43m:\u001b[49m\u001b[38;5;28;43;01mTrue\u001b[39;49;00m\u001b[43m}\u001b[49m\u001b[43m)\u001b[49m\n\u001b[1;32m     11\u001b[0m \u001b[38;5;28mprint\u001b[39m(res)\n\u001b[1;32m     12\u001b[0m \u001b[38;5;28mprint\u001b[39m(penergy(res\u001b[38;5;241m.\u001b[39mx, G, y, p))\n",
      "File \u001b[0;32m~/.local/lib/python3.8/site-packages/scipy/optimize/_minimize.py:693\u001b[0m, in \u001b[0;36mminimize\u001b[0;34m(fun, x0, args, method, jac, hess, hessp, bounds, constraints, tol, callback, options)\u001b[0m\n\u001b[1;32m    690\u001b[0m     res \u001b[38;5;241m=\u001b[39m _minimize_slsqp(fun, x0, args, jac, bounds,\n\u001b[1;32m    691\u001b[0m                           constraints, callback\u001b[38;5;241m=\u001b[39mcallback, \u001b[38;5;241m*\u001b[39m\u001b[38;5;241m*\u001b[39moptions)\n\u001b[1;32m    692\u001b[0m \u001b[38;5;28;01melif\u001b[39;00m meth \u001b[38;5;241m==\u001b[39m \u001b[38;5;124m'\u001b[39m\u001b[38;5;124mtrust-constr\u001b[39m\u001b[38;5;124m'\u001b[39m:\n\u001b[0;32m--> 693\u001b[0m     res \u001b[38;5;241m=\u001b[39m \u001b[43m_minimize_trustregion_constr\u001b[49m\u001b[43m(\u001b[49m\u001b[43mfun\u001b[49m\u001b[43m,\u001b[49m\u001b[43m \u001b[49m\u001b[43mx0\u001b[49m\u001b[43m,\u001b[49m\u001b[43m \u001b[49m\u001b[43margs\u001b[49m\u001b[43m,\u001b[49m\u001b[43m \u001b[49m\u001b[43mjac\u001b[49m\u001b[43m,\u001b[49m\u001b[43m \u001b[49m\u001b[43mhess\u001b[49m\u001b[43m,\u001b[49m\u001b[43m \u001b[49m\u001b[43mhessp\u001b[49m\u001b[43m,\u001b[49m\n\u001b[1;32m    694\u001b[0m \u001b[43m                                       \u001b[49m\u001b[43mbounds\u001b[49m\u001b[43m,\u001b[49m\u001b[43m \u001b[49m\u001b[43mconstraints\u001b[49m\u001b[43m,\u001b[49m\n\u001b[1;32m    695\u001b[0m \u001b[43m                                       \u001b[49m\u001b[43mcallback\u001b[49m\u001b[38;5;241;43m=\u001b[39;49m\u001b[43mcallback\u001b[49m\u001b[43m,\u001b[49m\u001b[43m \u001b[49m\u001b[38;5;241;43m*\u001b[39;49m\u001b[38;5;241;43m*\u001b[39;49m\u001b[43moptions\u001b[49m\u001b[43m)\u001b[49m\n\u001b[1;32m    696\u001b[0m \u001b[38;5;28;01melif\u001b[39;00m meth \u001b[38;5;241m==\u001b[39m \u001b[38;5;124m'\u001b[39m\u001b[38;5;124mdogleg\u001b[39m\u001b[38;5;124m'\u001b[39m:\n\u001b[1;32m    697\u001b[0m     res \u001b[38;5;241m=\u001b[39m _minimize_dogleg(fun, x0, args, jac, hess,\n\u001b[1;32m    698\u001b[0m                            callback\u001b[38;5;241m=\u001b[39mcallback, \u001b[38;5;241m*\u001b[39m\u001b[38;5;241m*\u001b[39moptions)\n",
      "File \u001b[0;32m~/.local/lib/python3.8/site-packages/scipy/optimize/_trustregion_constr/minimize_trustregion_constr.py:332\u001b[0m, in \u001b[0;36m_minimize_trustregion_constr\u001b[0;34m(fun, x0, args, grad, hess, hessp, bounds, constraints, xtol, gtol, barrier_tol, sparse_jacobian, callback, maxiter, verbose, finite_diff_rel_step, initial_constr_penalty, initial_tr_radius, initial_barrier_parameter, initial_barrier_tolerance, factorization_method, disp)\u001b[0m\n\u001b[1;32m    329\u001b[0m     finite_diff_bounds \u001b[38;5;241m=\u001b[39m (\u001b[38;5;241m-\u001b[39mnp\u001b[38;5;241m.\u001b[39minf, np\u001b[38;5;241m.\u001b[39minf)\n\u001b[1;32m    331\u001b[0m \u001b[38;5;66;03m# Define Objective Function\u001b[39;00m\n\u001b[0;32m--> 332\u001b[0m objective \u001b[38;5;241m=\u001b[39m \u001b[43mScalarFunction\u001b[49m\u001b[43m(\u001b[49m\u001b[43mfun\u001b[49m\u001b[43m,\u001b[49m\u001b[43m \u001b[49m\u001b[43mx0\u001b[49m\u001b[43m,\u001b[49m\u001b[43m \u001b[49m\u001b[43margs\u001b[49m\u001b[43m,\u001b[49m\u001b[43m \u001b[49m\u001b[43mgrad\u001b[49m\u001b[43m,\u001b[49m\u001b[43m \u001b[49m\u001b[43mhess\u001b[49m\u001b[43m,\u001b[49m\n\u001b[1;32m    333\u001b[0m \u001b[43m                           \u001b[49m\u001b[43mfinite_diff_rel_step\u001b[49m\u001b[43m,\u001b[49m\u001b[43m \u001b[49m\u001b[43mfinite_diff_bounds\u001b[49m\u001b[43m)\u001b[49m\n\u001b[1;32m    335\u001b[0m \u001b[38;5;66;03m# Put constraints in list format when needed.\u001b[39;00m\n\u001b[1;32m    336\u001b[0m \u001b[38;5;28;01mif\u001b[39;00m \u001b[38;5;28misinstance\u001b[39m(constraints, (NonlinearConstraint, LinearConstraint)):\n",
      "File \u001b[0;32m~/.local/lib/python3.8/site-packages/scipy/optimize/_differentiable_functions.py:158\u001b[0m, in \u001b[0;36mScalarFunction.__init__\u001b[0;34m(self, fun, x0, args, grad, hess, finite_diff_rel_step, finite_diff_bounds, epsilon)\u001b[0m\n\u001b[1;32m    155\u001b[0m     \u001b[38;5;28mself\u001b[39m\u001b[38;5;241m.\u001b[39mf \u001b[38;5;241m=\u001b[39m fun_wrapped(\u001b[38;5;28mself\u001b[39m\u001b[38;5;241m.\u001b[39mx)\n\u001b[1;32m    157\u001b[0m \u001b[38;5;28mself\u001b[39m\u001b[38;5;241m.\u001b[39m_update_fun_impl \u001b[38;5;241m=\u001b[39m update_fun\n\u001b[0;32m--> 158\u001b[0m \u001b[38;5;28;43mself\u001b[39;49m\u001b[38;5;241;43m.\u001b[39;49m\u001b[43m_update_fun\u001b[49m\u001b[43m(\u001b[49m\u001b[43m)\u001b[49m\n\u001b[1;32m    160\u001b[0m \u001b[38;5;66;03m# Gradient evaluation\u001b[39;00m\n\u001b[1;32m    161\u001b[0m \u001b[38;5;28;01mif\u001b[39;00m callable(grad):\n",
      "File \u001b[0;32m~/.local/lib/python3.8/site-packages/scipy/optimize/_differentiable_functions.py:251\u001b[0m, in \u001b[0;36mScalarFunction._update_fun\u001b[0;34m(self)\u001b[0m\n\u001b[1;32m    249\u001b[0m \u001b[38;5;28;01mdef\u001b[39;00m \u001b[38;5;21m_update_fun\u001b[39m(\u001b[38;5;28mself\u001b[39m):\n\u001b[1;32m    250\u001b[0m     \u001b[38;5;28;01mif\u001b[39;00m \u001b[38;5;129;01mnot\u001b[39;00m \u001b[38;5;28mself\u001b[39m\u001b[38;5;241m.\u001b[39mf_updated:\n\u001b[0;32m--> 251\u001b[0m         \u001b[38;5;28;43mself\u001b[39;49m\u001b[38;5;241;43m.\u001b[39;49m\u001b[43m_update_fun_impl\u001b[49m\u001b[43m(\u001b[49m\u001b[43m)\u001b[49m\n\u001b[1;32m    252\u001b[0m         \u001b[38;5;28mself\u001b[39m\u001b[38;5;241m.\u001b[39mf_updated \u001b[38;5;241m=\u001b[39m \u001b[38;5;28;01mTrue\u001b[39;00m\n",
      "File \u001b[0;32m~/.local/lib/python3.8/site-packages/scipy/optimize/_differentiable_functions.py:155\u001b[0m, in \u001b[0;36mScalarFunction.__init__.<locals>.update_fun\u001b[0;34m()\u001b[0m\n\u001b[1;32m    154\u001b[0m \u001b[38;5;28;01mdef\u001b[39;00m \u001b[38;5;21mupdate_fun\u001b[39m():\n\u001b[0;32m--> 155\u001b[0m     \u001b[38;5;28mself\u001b[39m\u001b[38;5;241m.\u001b[39mf \u001b[38;5;241m=\u001b[39m \u001b[43mfun_wrapped\u001b[49m\u001b[43m(\u001b[49m\u001b[38;5;28;43mself\u001b[39;49m\u001b[38;5;241;43m.\u001b[39;49m\u001b[43mx\u001b[49m\u001b[43m)\u001b[49m\n",
      "File \u001b[0;32m~/.local/lib/python3.8/site-packages/scipy/optimize/_differentiable_functions.py:137\u001b[0m, in \u001b[0;36mScalarFunction.__init__.<locals>.fun_wrapped\u001b[0;34m(x)\u001b[0m\n\u001b[1;32m    133\u001b[0m \u001b[38;5;28mself\u001b[39m\u001b[38;5;241m.\u001b[39mnfev \u001b[38;5;241m+\u001b[39m\u001b[38;5;241m=\u001b[39m \u001b[38;5;241m1\u001b[39m\n\u001b[1;32m    134\u001b[0m \u001b[38;5;66;03m# Send a copy because the user may overwrite it.\u001b[39;00m\n\u001b[1;32m    135\u001b[0m \u001b[38;5;66;03m# Overwriting results in undefined behaviour because\u001b[39;00m\n\u001b[1;32m    136\u001b[0m \u001b[38;5;66;03m# fun(self.x) will change self.x, with the two no longer linked.\u001b[39;00m\n\u001b[0;32m--> 137\u001b[0m fx \u001b[38;5;241m=\u001b[39m \u001b[43mfun\u001b[49m\u001b[43m(\u001b[49m\u001b[43mnp\u001b[49m\u001b[38;5;241;43m.\u001b[39;49m\u001b[43mcopy\u001b[49m\u001b[43m(\u001b[49m\u001b[43mx\u001b[49m\u001b[43m)\u001b[49m\u001b[43m,\u001b[49m\u001b[43m \u001b[49m\u001b[38;5;241;43m*\u001b[39;49m\u001b[43margs\u001b[49m\u001b[43m)\u001b[49m\n\u001b[1;32m    138\u001b[0m \u001b[38;5;66;03m# Make sure the function returns a true scalar\u001b[39;00m\n\u001b[1;32m    139\u001b[0m \u001b[38;5;28;01mif\u001b[39;00m \u001b[38;5;129;01mnot\u001b[39;00m np\u001b[38;5;241m.\u001b[39misscalar(fx):\n",
      "\u001b[0;31mTypeError\u001b[0m: penergy() missing 1 required positional argument: 'p'"
     ]
    }
   ],
   "source": [
    "X,labels = datasets.make_moons(n_samples=500,noise = 0.1)\n",
    "W = gl.weightmatrix.knn(X,10,symmetrize=False)\n",
    "\n",
    "G = gl.graph(W)\n",
    "\n",
    "train_ind = np.arange(10)\n",
    "train_labels = labels[train_ind]\n",
    "\n",
    "linear_constraint = LinearConstraint(np.array(G.degree_vector()), [0], [0])\n",
    "res = minimize(penergy, x0 = np.ones(500), args = (G, labels, p), method = 'trust-constr', constraints = linear_constraint, options = {'maxiter':50, 'disp':True})\n",
    "print(res)\n",
    "print(penergy(res.x, G, y, p))\n",
    "\n",
    "\n",
    "model = gl.ssl.poisson(W, solver='gradient_descent')\n",
    "pred_labels = model.fit_predict(train_ind, train_labels)\n",
    "\n",
    "accuracy = gl.ssl.ssl_accuracy(pred_labels, labels, len(train_ind))   \n",
    "print(\"Accuracy: %.2f%%\"%accuracy)\n",
    "\n",
    "plt.scatter(X[:,0],X[:,1], c=pred_labels)\n",
    "plt.scatter(X[train_ind,0],X[train_ind,1], c='r')\n",
    "plt.show()"
   ]
  },
  {
   "cell_type": "code",
   "execution_count": 82,
   "id": "2171cbef",
   "metadata": {},
   "outputs": [
    {
     "name": "stdout",
     "output_type": "stream",
     "text": [
      "10\n",
      "Accuracy: 99.80%\n"
     ]
    },
    {
     "data": {
      "image/png": "[encoded data removed]",
      "text/plain": [
       "<Figure size 432x288 with 1 Axes>"
      ]
     },
     "metadata": {
      "needs_background": "light"
     },
     "output_type": "display_data"
    }
   ],
   "source": [
    "X,labels = datasets.make_moons(n_samples=500,noise=0.1)\n",
    "W = gl.weightmatrix.knn(X,10,symmetrize=False)\n",
    "\n",
    "train_ind = gl.trainsets.generate(labels, rate=5)\n",
    "print(train_ind.size)\n",
    "train_labels = labels[train_ind]\n",
    "\n",
    "model = gl.ssl.poisson(W, solver='gradient_descent')\n",
    "pred_labels = model.fit_predict(train_ind, train_labels)\n",
    "\n",
    "accuracy = gl.ssl.ssl_accuracy(pred_labels, labels, len(train_ind))   \n",
    "print(\"Accuracy: %.2f%%\"%accuracy)\n",
    "\n",
    "plt.scatter(X[:,0],X[:,1], c=pred_labels)\n",
    "plt.scatter(X[train_ind,0],X[train_ind,1], c='r')\n",
    "plt.show()"
   ]
  },
  {
   "cell_type": "code",
   "execution_count": null,
   "id": "c2fa895b",
   "metadata": {},
   "outputs": [],
   "source": []
  }
 ],
 "metadata": {
  "kernelspec": {
   "display_name": "Python 3 (ipykernel)",
   "language": "python",
   "name": "python3"
  },
  "language_info": {
   "codemirror_mode": {
    "name": "ipython",
    "version": 3
   },
   "file_extension": ".py",
   "mimetype": "text/x-python",
   "name": "python",
   "nbconvert_exporter": "python",
   "pygments_lexer": "ipython3",
   "version": "3.8.10"
  }
 },
 "nbformat": 4,
 "nbformat_minor": 5
}
