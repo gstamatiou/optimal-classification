{
 "cells": [
  {
   "cell_type": "code",
   "execution_count": 12,
   "id": "06302a40",
   "metadata": {},
   "outputs": [],
   "source": [
    "import numpy as np\n",
    "import matplotlib.pyplot as plt\n",
    "import graphlearning as gl\n",
    "from scipy.optimize import minimize, LinearConstraint\n",
    "import sklearn.datasets as datasets\n"
   ]
  },
  {
   "cell_type": "markdown",
   "id": "cb1c64b6",
   "metadata": {},
   "source": [
    "Generate a sample of size 2 * n containing n data points from each class.\n",
    "All data points are sampled from a dim-dimensional Gaussian."
   ]
  },
  {
   "cell_type": "code",
   "execution_count": 13,
   "id": "4f2142de",
   "metadata": {},
   "outputs": [
    {
     "name": "stdout",
     "output_type": "stream",
     "text": [
      "[[3.1 3.6]\n",
      " [1.6 3.2]\n",
      " [2.6 2.4]\n",
      " [3.2 3.5]\n",
      " [3.7 2. ]\n",
      " [2.5 3.2]\n",
      " [2.7 1.4]\n",
      " [4.4 1.1]]\n",
      "[0. 0. 0. 0. 1. 1. 1. 1.]\n"
     ]
    },
    {
     "data": {
      "image/png": "[encoded data removed]",
      "text/plain": [
       "<Figure size 432x288 with 1 Axes>"
      ]
     },
     "metadata": {
      "needs_background": "light"
     },
     "output_type": "display_data"
    }
   ],
   "source": [
    "n = 4 # Sample size from each class\n",
    "dim = 2\n",
    "data = np.zeros((2 * n, dim))\n",
    "mean1, cov1 = [2, 4], (1/2) * np.identity(dim)\n",
    "mean2, cov2 = [4,2], (1/2) * np.identity(dim)\n",
    "np.random.seed(1)\n",
    "data[:n] = np.random.multivariate_normal(mean1, cov1, n)\n",
    "np.random.seed(2)\n",
    "data[n:] = np.random.multivariate_normal(mean2, cov2, n)\n",
    "\n",
    "data = np.around(data, 1) #Round data to 1 decimal\n",
    "#np.random.multivariate_normal([2,4], np.identity(dim), 10)\n",
    "plt.scatter(data[:n, 0], data[:n, 1], label = '0')\n",
    "plt.scatter(data[n:, 0], data[n:, 1], label = '1')\n",
    "plt.legend()\n",
    "print(data)\n",
    "\n",
    "y = np.zeros(2*n)\n",
    "y[n:] = 1\n",
    "print(y)"
   ]
  },
  {
   "cell_type": "code",
   "execution_count": 14,
   "id": "30442bd0",
   "metadata": {},
   "outputs": [
    {
     "name": "stdout",
     "output_type": "stream",
     "text": [
      "[[0 1]\n",
      " [2 3]\n",
      " [4 5]\n",
      " [6 7]\n",
      " [8 9]]\n",
      "[[2 4]\n",
      " [4 4]\n",
      " [3 4]\n",
      " [2 3]\n",
      " [3 2]]\n",
      "[[ 4  4  4  3  2]\n",
      " [16 20 18 13 12]\n",
      " [28 36 32 23 22]\n",
      " [40 52 46 33 32]\n",
      " [52 68 60 43 42]]\n"
     ]
    }
   ],
   "source": [
    "a = np.arange(10).reshape(5,2)\n",
    "b = np.random.randint(5, size=10).reshape(5,2)\n",
    "print(a, b, np.inner(a,b), sep=\"\\n\")"
   ]
  },
  {
   "cell_type": "markdown",
   "id": "6dc3e8e1",
   "metadata": {},
   "source": [
    "Calculate $$I[u] = \\frac{1}{2p} \\sum_{i,j=1}^n w_{i j} | \\nabla u(x_i,x_j) |^p - \\sum_{j=1}^m(y_j - \\bar{y}) \\cdot u(x_j)$$\n",
    "where $$ \\nabla u(x_i, x_j) = u(x_j) - u(x_i) $$"
   ]
  },
  {
   "cell_type": "code",
   "execution_count": 27,
   "id": "0bf95a07",
   "metadata": {},
   "outputs": [
    {
     "name": "stdout",
     "output_type": "stream",
     "text": [
      "[[[ 0.   0. ]\n",
      "  [-1.   1. ]\n",
      "  [-0.5  0.5]]\n",
      "\n",
      " [[ 1.  -1. ]\n",
      "  [ 0.   0. ]\n",
      "  [ 0.5 -0.5]]\n",
      "\n",
      " [[ 0.5 -0.5]\n",
      "  [-0.5  0.5]\n",
      "  [ 0.   0. ]]]\n",
      "0.5000000000000004\n",
      "0.17851130197757947\n"
     ]
    }
   ],
   "source": [
    "# Calculates vector of degrees for the weight matrix W\n",
    "# W: (n,k) numpy array\n",
    "    \n",
    "def degrees(W):\n",
    "    return W.sum(axis = 1)\n",
    "\n",
    "# Example\n",
    "# Calculates degrees of equilateral triangle\n",
    "# W = np.array([[0, 1, 1], [1,0,1], [1,1,0]])\n",
    "# print(degrees(W))\n",
    "\n",
    "\"\"\"\n",
    "Computes the gradient of u\n",
    "u: (n,k) matrix\n",
    "\"\"\"\n",
    "def grad(u):\n",
    "    n = u.shape[0]\n",
    "    k = u.shape[1]\n",
    "    gradu = np.zeros((n,n,k))\n",
    "    for i in range(n):\n",
    "        for j in range(n):\n",
    "            gradu[i][j] = u[j] - u[i]\n",
    "    return gradu\n",
    "            \n",
    "\"\"\"\n",
    "u_flattened: n*k matrix\n",
    "W: weight matrix\n",
    "y: (m,k) matrix\n",
    "idx = vector of labelled indices\n",
    "p = p constant for laplace operator\n",
    "\"\"\"\n",
    "def penergy(u_flattened, W, idx, y, p):\n",
    "    k = y.shape[1]\n",
    "    n = int(u_flattened.size/k)\n",
    "    u = u_flattened.reshape((n,k))\n",
    "    gradu = grad(u)\n",
    "    y_bar = (1/y.shape[0]) * y.sum(axis = 0)\n",
    "    \n",
    "    first_summand = (1/(2*p)) * (np.apply_along_axis(np.linalg.norm, 2, gradu) ** p).sum()\n",
    "    second_summand = np.sum( (y - y_bar) * u[idx] )\n",
    "\n",
    "    return first_summand - second_summand\n",
    "\n",
    "## Example\n",
    "u = np.array([[1,0], [0,1], [1/2, 1/2]])\n",
    "print(grad(u))\n",
    "y = np.array([[1,0], [0,1]])\n",
    "W = np.array([[0, 1, 1], [1,0,1], [1,1,0]])\n",
    "idx = [0, 1]\n",
    "p = 2\n",
    "\n",
    "#print(np.apply_along_axis(np.linalg.norm, 2, grad(u)))\n",
    "print(penergy(u, W, idx, y, 2))\n",
    "print(penergy(u, W, idx, y, 3))\n",
    "\n",
    "# Returns the ith vector of the usual basis of R^k\n",
    "# Index starts at 0\n",
    "def euclidean_basis(i, k):\n",
    "    eye = np.eye(k)\n",
    "    return eye[i]\n",
    "\n",
    "# Example\n",
    "# print(euclidean_basis(0, 4))\n",
    "# print(euclidean_basis(2, 4))\n",
    "\n",
    "# Returns the labels that u predicts\n",
    "def predict(u):\n",
    "    return np.argmax(u, axis = 1)\n",
    "\n",
    "def slow_penergy(u_flattened, W, idx, y, p):\n",
    "    k = y.shape[1]\n",
    "    n = int(u_flattened.size/k)\n",
    "    m = y.shape[0]\n",
    "    u = u_flattened.reshape((n,k))\n",
    "    gradu = grad(u)\n",
    "    \n",
    "    y_bar = (1/y.shape[0]) * y.sum(axis = 0)\n",
    "    \n",
    "    first_summand = 0\n",
    "    for i in range(n):\n",
    "        for j in range(n):\n",
    "            first_summand += np.linalg.norm(gradu[i,j])**p\n",
    "    first_summand /= 2 * p\n",
    "    \n",
    "    second_summand = 0\n",
    "    for j in range(m):\n",
    "        second_summand += np.inner( (y[j]-y_bar), u[j])\n",
    "    \n",
    "    return first_summand - second_summand"
   ]
  },
  {
   "cell_type": "code",
   "execution_count": 64,
   "id": "06f16be3",
   "metadata": {},
   "outputs": [
    {
     "name": "stdout",
     "output_type": "stream",
     "text": [
      "Minimizer:\n",
      " [[ 1.66666667e-01 -1.66666666e-01]\n",
      " [-1.66666666e-01  1.66666667e-01]\n",
      " [-9.77529722e-10 -1.11717683e-09]]\n",
      "Energy of minimizer: -0.16666666666666666\n",
      "Negative Laplacian values:\n",
      "[ 0.5 -0.5]\n",
      "[-0.5  0.5]\n",
      "[-2.93258917e-09 -3.35153047e-09]\n",
      "Labels: [0 1 0]\n"
     ]
    },
    {
     "name": "stderr",
     "output_type": "stream",
     "text": [
      "/home/user/.local/lib/python3.8/site-packages/scipy/optimize/_hessian_update_strategy.py:182: UserWarning: delta_grad == 0.0. Check if the approximated function is linear. If the function is linear better results can be obtained by defining the Hessian as zero instead of using quasi-Newton approximations.\n",
      "  warn('delta_grad == 0.0. Check if the approximated '\n"
     ]
    }
   ],
   "source": [
    "def started_gradient_ppoisson(W, idx, y, p, start):\n",
    "    d = degrees(W)\n",
    "    n = W.shape[0]\n",
    "    k = y.shape[1]\n",
    "    eye = np.eye(k)\n",
    "\n",
    "    constrain_matrix = np.concatenate([d[i] * eye for i in range(n)], axis = 1)\n",
    "    # print(constrain_matrix)\n",
    "    linear_constraint = LinearConstraint(constrain_matrix, np.zeros(k), np.zeros(k))\n",
    "    res = minimize(slow_penergy, x0 = start, args = (W, idx, y, p), method = 'trust-constr', constraints = linear_constraint)\n",
    "    u = res.x.reshape(n,k)\n",
    "    \n",
    "    return u\n",
    "\n",
    "def gradient_ppoisson(W, idx, y, p):\n",
    "    d = degrees(W)\n",
    "    n = W.shape[0]\n",
    "    k = y.shape[1]\n",
    "    eye = np.eye(k)\n",
    "\n",
    "    constrain_matrix = np.concatenate([d[i] * eye for i in range(n)], axis = 1)\n",
    "    # print(constrain_matrix)\n",
    "    linear_constraint = LinearConstraint(constrain_matrix, np.zeros(k), np.zeros(k))\n",
    "    res = minimize(slow_penergy, x0 = np.zeros(n * k), args = (W, idx, y, p), method = 'trust-constr', constraints = linear_constraint)\n",
    "    u = res.x.reshape(n,k)\n",
    "    \n",
    "    return u\n",
    "\n",
    "# Example\n",
    "y = np.array([[1,0], [0,1]])\n",
    "W = np.array([[0, 1, 1], [1,0,1], [1,1,0]])\n",
    "idx = [0, 1]\n",
    "p = 2\n",
    "\n",
    "u = gradient_ppoisson(W, idx, y, p)\n",
    "print(\"Minimizer:\\n\", u)\n",
    "print(\"Energy of minimizer:\", penergy(u, W, idx, y, p))\n",
    "print(\"Negative Laplacian values:\", 2*u[0]-u[1]-u[2], 2*u[1]-u[0]-u[2], 2*u[2]-u[0]-u[1], sep=\"\\n\")\n",
    "print(\"Labels:\", predict(u))"
   ]
  },
  {
   "cell_type": "code",
   "execution_count": 17,
   "id": "c2fa895b",
   "metadata": {},
   "outputs": [
    {
     "name": "stdout",
     "output_type": "stream",
     "text": [
      "[[ 0.16666667 -0.16666667]\n",
      " [-0.16666667  0.16666667]\n",
      " [ 0.          0.        ]]\n"
     ]
    }
   ],
   "source": [
    "# Toy example using graph learn\n",
    "y = np.array([[1,0], [0,1]])\n",
    "W = np.array([[0, 1, 1], [1,0,1], [1,1,0]])\n",
    "d = degrees(W)\n",
    "idx = [0, 1]\n",
    "n = 3\n",
    "k = 2\n",
    "p = 2\n",
    "\n",
    "model = gl.ssl.poisson(W)\n",
    "u = model.fit(idx, np.array([0, 1]))\n",
    "# print(2*u[0]-u[1]-u[2])\n",
    "# print(2*u[1]-u[0]-u[2])\n",
    "# print(2*u[2]-u[0]-u[1])\n",
    "# print(u[0] + u[1] + u[2])\n",
    "print(u)"
   ]
  },
  {
   "cell_type": "code",
   "execution_count": 18,
   "id": "2171cbef",
   "metadata": {
    "scrolled": false
   },
   "outputs": [
    {
     "name": "stdout",
     "output_type": "stream",
     "text": [
      "10\n",
      "Accuracy: 100.00%\n"
     ]
    },
    {
     "data": {
      "image/png": "[encoded data removed]",
      "text/plain": [
       "<Figure size 432x288 with 1 Axes>"
      ]
     },
     "metadata": {
      "needs_background": "light"
     },
     "output_type": "display_data"
    }
   ],
   "source": [
    "X,labels = datasets.make_moons(n_samples=500,noise=0.1)\n",
    "W = gl.weightmatrix.knn(X,10,symmetrize=False)\n",
    "\n",
    "\n",
    "train_ind = gl.trainsets.generate(labels, rate=5)\n",
    "print(train_ind.size)\n",
    "train_labels = labels[train_ind]\n",
    "\n",
    "model = gl.ssl.poisson(W, solver='gradient_descent')\n",
    "pred_labels = model.fit_predict(train_ind, train_labels)\n",
    "\n",
    "accuracy = gl.ssl.ssl_accuracy(pred_labels, labels, len(train_ind))   \n",
    "print(\"Accuracy: %.2f%%\"%accuracy)\n",
    "\n",
    "plt.scatter(X[:,0],X[:,1], c=pred_labels)\n",
    "plt.scatter(X[train_ind,0],X[train_ind,1], c='r')\n",
    "plt.show()"
   ]
  },
  {
   "cell_type": "code",
   "execution_count": 62,
   "id": "6b92a6b1",
   "metadata": {},
   "outputs": [
    {
     "name": "stdout",
     "output_type": "stream",
     "text": [
      "[ 2.08166817e-17 -1.51788304e-17]\n",
      "[[ 1.45153451 -1.45153451]\n",
      " [ 1.02019631 -1.02019631]\n",
      " [-0.11477777  0.11477777]\n",
      " [-0.9307856   0.9307856 ]\n",
      " [-0.86892368  0.86892368]\n",
      " [-0.88633912  0.88633912]\n",
      " [ 0.66892767 -0.66892767]\n",
      " [-0.97292179  0.97292179]\n",
      " [ 1.03808479 -1.03808479]\n",
      " [-0.67058996  0.67058996]\n",
      " [-0.52841068  0.52841068]\n",
      " [ 1.12552873 -1.12552873]\n",
      " [-0.67947604  0.67947604]\n",
      " [-1.08676752  1.08676752]\n",
      " [ 1.4575222  -1.4575222 ]\n",
      " [ 0.08139966 -0.08139966]\n",
      " [-0.10677601  0.10677601]\n",
      " [ 0.5774043  -0.5774043 ]\n",
      " [ 0.63510616 -0.63510616]\n",
      " [-0.25551928  0.25551928]]\n"
     ]
    },
    {
     "data": {
      "image/png": "[encoded data removed]",
      "text/plain": [
       "<Figure size 432x288 with 2 Axes>"
      ]
     },
     "metadata": {
      "needs_background": "light"
     },
     "output_type": "display_data"
    }
   ],
   "source": [
    "n = 20\n",
    "k = 2\n",
    "\n",
    "X,labels = datasets.make_moons(n_samples=n,noise=0.1)\n",
    "W = gl.weightmatrix.knn(X,10).toarray()\n",
    "\n",
    "train_ind = gl.trainsets.generate(labels, rate=5)\n",
    "train_labels = labels[train_ind]\n",
    "m = train_ind.size\n",
    "\n",
    "y = np.zeros((m, k))\n",
    "for i in range(train_ind.size):\n",
    "    y[i] = euclidean_basis(train_labels[i], k)\n",
    "    \n",
    "u = gradient_ppoisson(W, train_ind, y, p = 2)\n",
    "pred_labels = predict(u)\n",
    "\n",
    "fig, ax = plt.subplots(ncols = 2)\n",
    "fig.tight_layout()\n",
    "\n",
    "ax[0].scatter(X[:,0],X[:,1], c=pred_labels)\n",
    "ax[0].scatter(X[train_ind,0],X[train_ind,1], marker='x')\n",
    "\n",
    "train_labels = labels[train_ind]\n",
    "\n",
    "model = gl.ssl.poisson(W, solver='gradient_descent')\n",
    "u = model.fit(train_ind, train_labels)\n",
    "pred_labels = predict(u)\n",
    "ax[1].scatter(X[:,0],X[:,1], c=pred_labels)\n",
    "ax[1].scatter(X[train_ind,0],X[train_ind,1], marker='x')\n",
    "plt.show()"
   ]
  },
  {
   "cell_type": "code",
   "execution_count": 67,
   "id": "9a2eaf21",
   "metadata": {},
   "outputs": [
    {
     "name": "stdout",
     "output_type": "stream",
     "text": [
      "477.1030565939509 0.12499995235704557\n"
     ]
    },
    {
     "data": {
      "image/png": "[encoded data removed]",
      "text/plain": [
       "<Figure size 432x288 with 2 Axes>"
      ]
     },
     "metadata": {
      "needs_background": "light"
     },
     "output_type": "display_data"
    }
   ],
   "source": [
    "n = 20\n",
    "k = 2\n",
    "\n",
    "X,labels = datasets.make_moons(n_samples=n,noise=0.1)\n",
    "W = gl.weightmatrix.knn(X,10).toarray()\n",
    "\n",
    "train_ind = gl.trainsets.generate(labels, rate=5)\n",
    "train_labels = labels[train_ind]\n",
    "\n",
    "fig, ax = plt.subplots(ncols = 2)\n",
    "fig.tight_layout()\n",
    "\n",
    "train_labels = labels[train_ind]\n",
    "\n",
    "model = gl.ssl.poisson(W, solver='gradient_descent')\n",
    "u = model.fit(train_ind, train_labels)\n",
    "pred_labels = predict(u)\n",
    "ax[1].scatter(X[:,0],X[:,1], c=pred_labels)\n",
    "ax[1].scatter(X[train_ind,0],X[train_ind,1], marker='x')\n",
    "\n",
    "\n",
    "m = train_ind.size\n",
    "\n",
    "y = np.zeros((m, k))\n",
    "for i in range(train_ind.size):\n",
    "    y[i] = euclidean_basis(train_labels[i], k)\n",
    "    \n",
    "my_u = started_gradient_ppoisson(W, train_ind, y, 2, u.flatten())\n",
    "pred_labels = predict(my_u)\n",
    "print(penergy(u.flatten(), W, train_ind, y, p), penergy(my_u.flatten(), W, train_ind, y, p))\n",
    "\n",
    "ax[0].scatter(X[:,0],X[:,1], c=pred_labels)\n",
    "ax[0].scatter(X[train_ind,0],X[train_ind,1], marker='x')\n",
    "\n",
    "plt.show()"
   ]
  },
  {
   "cell_type": "code",
   "execution_count": 58,
   "id": "c951629b",
   "metadata": {},
   "outputs": [
    {
     "name": "stdout",
     "output_type": "stream",
     "text": [
      "[11 12 13 21 22 23 31 32 33 41 42 43]\n",
      "[[11 12 13]\n",
      " [21 22 23]\n",
      " [31 32 33]\n",
      " [41 42 43]]\n"
     ]
    }
   ],
   "source": [
    "u = np.array([11, 12, 13, 21, 22, 23, 31, 32, 33, 41, 42, 43])\n",
    "print(u)\n",
    "print(u.reshape(4,3))"
   ]
  },
  {
   "cell_type": "code",
   "execution_count": null,
   "id": "24142cd2",
   "metadata": {},
   "outputs": [],
   "source": []
  }
 ],
 "metadata": {
  "kernelspec": {
   "display_name": "Python 3 (ipykernel)",
   "language": "python",
   "name": "python3"
  },
  "language_info": {
   "codemirror_mode": {
    "name": "ipython",
    "version": 3
   },
   "file_extension": ".py",
   "mimetype": "text/x-python",
   "name": "python",
   "nbconvert_exporter": "python",
   "pygments_lexer": "ipython3",
   "version": "3.8.10"
  }
 },
 "nbformat": 4,
 "nbformat_minor": 5
}
