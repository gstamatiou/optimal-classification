{
 "cells": [
  {
   "cell_type": "code",
   "execution_count": 2,
   "id": "06302a40",
   "metadata": {},
   "outputs": [],
   "source": [
    "import numpy as np\n",
    "import matplotlib.pyplot as plt\n",
    "import graphlearning as gl\n",
    "from scipy.optimize import minimize, LinearConstraint\n",
    "import sklearn.datasets as datasets\n",
    "import scipy"
   ]
  },
  {
   "cell_type": "markdown",
   "id": "6dc3e8e1",
   "metadata": {},
   "source": [
    "$$I[u] = \\frac{1}{2p} \\sum_{i,j=1}^n w_{i j} | \\nabla u(x_i,x_j) |^p - \\sum_{j=1}^m(y_j - \\bar{y}) \\cdot u(x_j)$$\n",
    "where $$ \\nabla u(x_i, x_j) = u(x_j) - u(x_i) $$"
   ]
  },
  {
   "cell_type": "code",
   "execution_count": 53,
   "id": "6e334e24",
   "metadata": {},
   "outputs": [
    {
     "name": "stdout",
     "output_type": "stream",
     "text": [
      "Minimizer:\n",
      " [[ 1.66666669e-01 -1.66666669e-01]\n",
      " [-1.66666669e-01  1.66666669e-01]\n",
      " [ 3.11035723e-18  3.11035723e-18]]\n",
      "Energy of minimizer: -0.16666666666666663\n",
      "Negative Laplacian values:\n",
      "[ 0.50000001 -0.50000001]\n",
      "[-0.50000001  0.50000001]\n",
      "[0. 0.]\n",
      "Labels: [0 1 0]\n"
     ]
    }
   ],
   "source": [
    "# Calculates vector of degrees for the weight matrix W\n",
    "# W: (n,k) numpy array\n",
    "    \n",
    "def degrees(W):\n",
    "    return W.sum(axis = 1)\n",
    "\n",
    "# Example\n",
    "# Calculates degrees of equilateral triangle\n",
    "# W = np.array([[0, 1, 1], [1,0,1], [1,1,0]])\n",
    "# print(degrees(W))\n",
    "\n",
    "\"\"\"\n",
    "Computes the gradient of u\n",
    "u: (n,k) matrix\n",
    "\"\"\"\n",
    "def grad(u):\n",
    "    gradu = -u[:, np.newaxis] + u\n",
    "\n",
    "    return gradu\n",
    "            \n",
    "\"\"\"\n",
    "u_flattened: n*k matrix\n",
    "W: weight matrix\n",
    "y: (m,k) matrix\n",
    "idx = vector of labelled indices\n",
    "p = p constant for laplace operator\n",
    "\"\"\"\n",
    "def penergy(u_flattened, W, idx, y, p):\n",
    "    k = y.shape[1]\n",
    "    n = int(u_flattened.size/k)\n",
    "    u = u_flattened.reshape((n,k))\n",
    "    gradu = grad(u)\n",
    "    y_bar = (1/y.shape[0]) * y.sum(axis = 0)\n",
    "    \n",
    "    first_summand = (1/(2*p)) * (W * (np.apply_along_axis(np.linalg.norm, 2, gradu) ** p)).sum()\n",
    "    second_summand = np.sum( (y - y_bar) * u[idx] )\n",
    "\n",
    "    return first_summand - second_summand\n",
    "\n",
    "# ## Example (see pdf)\n",
    "# u = np.array([[1,0], [0,1], [1/2, 1/2]])\n",
    "# print(grad(u))\n",
    "# y = np.array([[1,0], [0,1]])\n",
    "# W = np.array([[0, 1, 1], [1,0,1], [1,1,0]])\n",
    "# idx = [0, 1]\n",
    "# p = 2\n",
    "\n",
    "# #print(np.apply_along_axis(np.linalg.norm, 2, grad(u)))\n",
    "# print(\"2-energy is\", penergy(u, W, idx, y, 2))\n",
    "# print(\"3-energy is\", penergy(u, W, idx, y, 3))\n",
    "\n",
    "# Returns the ith vector of the usual basis of R^k\n",
    "# Index starts at 0\n",
    "def euclidean_basis(i, k):\n",
    "    eye = np.eye(k)\n",
    "    return eye[i]\n",
    "\n",
    "# Example\n",
    "# print(euclidean_basis(0, 4))\n",
    "# print(euclidean_basis(2, 4))\n",
    "\n",
    "# Returns the labels that u predicts\n",
    "def predict(u):\n",
    "    return np.argmax(u, axis = 1)\n",
    "\n",
    "# Solves the p-poisson equation on a graph with weight matrix W\n",
    "# and labels y on the elements with indices idx\n",
    "# using gradient descent\n",
    "def gradient_ppoisson(W, idx, y, p):\n",
    "    d = degrees(W)\n",
    "    n = W.shape[0]\n",
    "    k = y.shape[1]\n",
    "    eye = np.eye(k)\n",
    "\n",
    "    constrain_matrix = np.concatenate([d[i] * eye for i in range(n)], axis = 1)\n",
    "    linear_constraint = LinearConstraint(constrain_matrix, np.zeros(k), np.zeros(k))\n",
    "    \n",
    "    res = minimize(penergy, x0 = np.zeros(n * k), args = (W, idx, y, p), method = 'trust-constr', constraints = linear_constraint)\n",
    "    u = res.x.reshape(n,k)\n",
    "    \n",
    "    return u\n",
    "\n",
    "# Example\n",
    "y = np.array([[1,0], [0,1]])\n",
    "W = np.array([[0, 1, 1], [1,0,1], [1,1,0]])\n",
    "idx = [0, 1]\n",
    "p = 2\n",
    "\n",
    "u = gradient_ppoisson(W, idx, y, p)\n",
    "print(\"Minimizer:\\n\", u)\n",
    "print(\"Energy of minimizer:\", penergy(u, W, idx, y, p))\n",
    "print(\"Negative Laplacian values:\", 2*u[0]-u[1]-u[2], 2*u[1]-u[0]-u[2], 2*u[2]-u[0]-u[1], sep=\"\\n\")\n",
    "print(\"Labels:\", predict(u))"
   ]
  },
  {
   "cell_type": "markdown",
   "id": "21961ba6",
   "metadata": {},
   "source": [
    "### Functions made for debugging"
   ]
  },
  {
   "cell_type": "code",
   "execution_count": 54,
   "id": "0bf95a07",
   "metadata": {},
   "outputs": [],
   "source": [
    "def slow_penergy(u_flattened, W, idx, y, p):\n",
    "    k = y.shape[1]\n",
    "    n = int(u_flattened.size/k)\n",
    "    m = y.shape[0]\n",
    "    u = u_flattened.reshape((n,k))\n",
    "    gradu = grad(u)\n",
    "    \n",
    "    y_bar = (1/y.shape[0]) * y.sum(axis = 0)\n",
    "    \n",
    "    first_summand = 0\n",
    "    for i in range(n):\n",
    "        for j in range(n):\n",
    "            first_summand += np.linalg.norm(gradu[i,j])**p\n",
    "    first_summand /= 2 * p\n",
    "    \n",
    "    second_summand = 0\n",
    "    for j in range(m):\n",
    "        second_summand += np.inner( (y[j]-y_bar), u[j])\n",
    "    \n",
    "    return first_summand - second_summand\n",
    "\n",
    "def started_gradient_ppoisson(W, idx, y, p, start):\n",
    "    d = degrees(W)\n",
    "    n = W.shape[0]\n",
    "    k = y.shape[1]\n",
    "    eye = np.eye(k)\n",
    "\n",
    "    constrain_matrix = np.concatenate([d[i] * eye for i in range(n)], axis = 1)\n",
    "    # print(constrain_matrix)\n",
    "    linear_constraint = LinearConstraint(constrain_matrix, np.zeros(k), np.zeros(k))\n",
    "    res = minimize(slow_penergy, x0 = start, args = (W, idx, y, p), method = 'trust-constr', constraints = linear_constraint)\n",
    "    u = res.x.reshape(n,k)\n",
    "    \n",
    "    return u"
   ]
  },
  {
   "cell_type": "code",
   "execution_count": 55,
   "id": "c2fa895b",
   "metadata": {},
   "outputs": [
    {
     "name": "stdout",
     "output_type": "stream",
     "text": [
      "GraphLearn solution: \n",
      " [[ 0.16666667 -0.16666667]\n",
      " [-0.16666667  0.16666667]\n",
      " [ 0.          0.        ]]\n",
      "Custom solution: \n",
      " [[ 1.66666669e-01 -1.66666669e-01]\n",
      " [-1.66666669e-01  1.66666669e-01]\n",
      " [ 3.11035723e-18  3.11035723e-18]]\n"
     ]
    }
   ],
   "source": [
    "# Toy example using graph learn\n",
    "y = np.array([[1,0], [0,1]])\n",
    "W = np.array([[0, 1, 1], [1,0,1], [1,1,0]])\n",
    "d = degrees(W)\n",
    "idx = [0, 1]\n",
    "n = 3\n",
    "k = 2\n",
    "p = 2\n",
    "\n",
    "model = gl.ssl.poisson(W)\n",
    "u = model.fit(idx, np.array([0, 1]))\n",
    "# print(2*u[0]-u[1]-u[2])\n",
    "# print(2*u[1]-u[0]-u[2])\n",
    "# print(2*u[2]-u[0]-u[1])\n",
    "# print(u[0] + u[1] + u[2])\n",
    "print(\"GraphLearn solution: \\n\", u)\n",
    "\n",
    "# Toy example using custom implementation\n",
    "my_u = gradient_ppoisson(W, idx, y, p)\n",
    "print(\"Custom solution: \\n\", my_u)"
   ]
  },
  {
   "cell_type": "code",
   "execution_count": 61,
   "id": "6b92a6b1",
   "metadata": {
    "scrolled": true
   },
   "outputs": [
    {
     "name": "stdout",
     "output_type": "stream",
     "text": [
      "Energy of GraphLearning Solution: 8.687541466872855e+24\n",
      "Energy of custom solution: 2.5005792464952184e+34\n",
      "Accuracy of custom solution: 92.22222222222223\n",
      "Accuracy of GraphLearn solution: 92.22222222222223\n",
      "Number of different predictions 0\n"
     ]
    },
    {
     "data": {
      "image/png": "[encoded data removed]",
      "text/plain": [
       "<Figure size 432x288 with 2 Axes>"
      ]
     },
     "metadata": {
      "needs_background": "light"
     },
     "output_type": "display_data"
    }
   ],
   "source": [
    "n = 100\n",
    "k = 2\n",
    "\n",
    "# Generate training data and label sets\n",
    "X,labels = datasets.make_moons(n_samples=n,noise=0.1)\n",
    "W = gl.weightmatrix.knn(X,10).toarray()\n",
    "\n",
    "train_ind = gl.trainsets.generate(labels, rate=5)\n",
    "train_labels = labels[train_ind]\n",
    "m = train_ind.size\n",
    "\n",
    "y = np.zeros((m, k))\n",
    "for i in range(train_ind.size):\n",
    "    y[i] = euclidean_basis(train_labels[i], k)\n",
    "    \n",
    "# Custom Gradient Descent\n",
    "my_u = gradient_ppoisson(W, train_ind, y, p = 2)\n",
    "my_pred_labels = predict(my_u)\n",
    "\n",
    "fig, ax = plt.subplots(ncols = 2)\n",
    "fig.tight_layout()\n",
    "\n",
    "ax[0].scatter(X[:,0],X[:,1], c=my_pred_labels)\n",
    "ax[0].scatter(X[train_ind,0],X[train_ind,1], marker='x')\n",
    "ax[0].set_title(\"Custom Gradient Descent\")\n",
    "\n",
    "# Using graph learning toolkit\n",
    "train_labels = labels[train_ind]\n",
    "\n",
    "model = gl.ssl.poisson(W, solver='gradient_descent')\n",
    "u = model.fit(train_ind, train_labels)\n",
    "pred_labels = predict(u)\n",
    "ax[1].scatter(X[:,0],X[:,1], c=pred_labels)\n",
    "ax[1].scatter(X[train_ind,0],X[train_ind,1], marker='x')\n",
    "ax[1].set_title(\"Custom GradDescent\")\n",
    "\n",
    "print(\"Energy of GraphLearning Solution:\", penergy(u.flatten(), W, train_ind, y, p))\n",
    "print(\"Energy of custom solution:\", penergy(my_u.flatten(), W, train_ind, y, p))\n",
    "print(\"Accuracy of custom solution:\", gl.ssl.ssl_accuracy(my_pred_labels, labels, len(train_ind)))\n",
    "print(\"Accuracy of GraphLearn solution:\", gl.ssl.ssl_accuracy(pred_labels, labels, len(train_ind)))\n",
    "print(\"Number of different predictions\", np.count_nonzero(my_pred_labels - pred_labels))\n",
    "\n",
    "plt.show()"
   ]
  },
  {
   "cell_type": "code",
   "execution_count": 62,
   "id": "88eb0e8d",
   "metadata": {},
   "outputs": [
    {
     "ename": "KeyboardInterrupt",
     "evalue": "",
     "output_type": "error",
     "traceback": [
      "\u001b[0;31m---------------------------------------------------------------------------\u001b[0m",
      "\u001b[0;31mKeyboardInterrupt\u001b[0m                         Traceback (most recent call last)",
      "Input \u001b[0;32mIn [62]\u001b[0m, in \u001b[0;36m<cell line: 24>\u001b[0;34m()\u001b[0m\n\u001b[1;32m     41\u001b[0m     ax[i, j]\u001b[38;5;241m.\u001b[39mset_title(\u001b[38;5;124mf\u001b[39m\u001b[38;5;124m\"\u001b[39m\u001b[38;5;124mGraphLearn gradient descent\u001b[39m\u001b[38;5;124m\"\u001b[39m)\n\u001b[1;32m     43\u001b[0m \u001b[38;5;28;01melse\u001b[39;00m: \u001b[38;5;66;03m# Apply custom learning\u001b[39;00m\n\u001b[0;32m---> 44\u001b[0m     my_u \u001b[38;5;241m=\u001b[39m \u001b[43mgradient_ppoisson\u001b[49m\u001b[43m(\u001b[49m\u001b[43mW\u001b[49m\u001b[43m,\u001b[49m\u001b[43m \u001b[49m\u001b[43mtrain_ind\u001b[49m\u001b[43m,\u001b[49m\u001b[43m \u001b[49m\u001b[43my\u001b[49m\u001b[43m,\u001b[49m\u001b[43m \u001b[49m\u001b[43mp\u001b[49m\u001b[43m)\u001b[49m\n\u001b[1;32m     45\u001b[0m     my_pred_labels \u001b[38;5;241m=\u001b[39m predict(my_u)\n\u001b[1;32m     47\u001b[0m     discrepancies \u001b[38;5;241m=\u001b[39m np\u001b[38;5;241m.\u001b[39mcount_nonzero(my_pred_labels \u001b[38;5;241m-\u001b[39m pred_labels)\n",
      "Input \u001b[0;32mIn [53]\u001b[0m, in \u001b[0;36mgradient_ppoisson\u001b[0;34m(W, idx, y, p)\u001b[0m\n\u001b[1;32m     75\u001b[0m constrain_matrix \u001b[38;5;241m=\u001b[39m np\u001b[38;5;241m.\u001b[39mconcatenate([d[i] \u001b[38;5;241m*\u001b[39m eye \u001b[38;5;28;01mfor\u001b[39;00m i \u001b[38;5;129;01min\u001b[39;00m \u001b[38;5;28mrange\u001b[39m(n)], axis \u001b[38;5;241m=\u001b[39m \u001b[38;5;241m1\u001b[39m)\n\u001b[1;32m     76\u001b[0m linear_constraint \u001b[38;5;241m=\u001b[39m LinearConstraint(constrain_matrix, np\u001b[38;5;241m.\u001b[39mzeros(k), np\u001b[38;5;241m.\u001b[39mzeros(k))\n\u001b[0;32m---> 78\u001b[0m res \u001b[38;5;241m=\u001b[39m \u001b[43mminimize\u001b[49m\u001b[43m(\u001b[49m\u001b[43mpenergy\u001b[49m\u001b[43m,\u001b[49m\u001b[43m \u001b[49m\u001b[43mx0\u001b[49m\u001b[43m \u001b[49m\u001b[38;5;241;43m=\u001b[39;49m\u001b[43m \u001b[49m\u001b[43mnp\u001b[49m\u001b[38;5;241;43m.\u001b[39;49m\u001b[43mzeros\u001b[49m\u001b[43m(\u001b[49m\u001b[43mn\u001b[49m\u001b[43m \u001b[49m\u001b[38;5;241;43m*\u001b[39;49m\u001b[43m \u001b[49m\u001b[43mk\u001b[49m\u001b[43m)\u001b[49m\u001b[43m,\u001b[49m\u001b[43m \u001b[49m\u001b[43margs\u001b[49m\u001b[43m \u001b[49m\u001b[38;5;241;43m=\u001b[39;49m\u001b[43m \u001b[49m\u001b[43m(\u001b[49m\u001b[43mW\u001b[49m\u001b[43m,\u001b[49m\u001b[43m \u001b[49m\u001b[43midx\u001b[49m\u001b[43m,\u001b[49m\u001b[43m \u001b[49m\u001b[43my\u001b[49m\u001b[43m,\u001b[49m\u001b[43m \u001b[49m\u001b[43mp\u001b[49m\u001b[43m)\u001b[49m\u001b[43m,\u001b[49m\u001b[43m \u001b[49m\u001b[43mmethod\u001b[49m\u001b[43m \u001b[49m\u001b[38;5;241;43m=\u001b[39;49m\u001b[43m \u001b[49m\u001b[38;5;124;43m'\u001b[39;49m\u001b[38;5;124;43mtrust-constr\u001b[39;49m\u001b[38;5;124;43m'\u001b[39;49m\u001b[43m,\u001b[49m\u001b[43m \u001b[49m\u001b[43mconstraints\u001b[49m\u001b[43m \u001b[49m\u001b[38;5;241;43m=\u001b[39;49m\u001b[43m \u001b[49m\u001b[43mlinear_constraint\u001b[49m\u001b[43m)\u001b[49m\n\u001b[1;32m     79\u001b[0m u \u001b[38;5;241m=\u001b[39m res\u001b[38;5;241m.\u001b[39mx\u001b[38;5;241m.\u001b[39mreshape(n,k)\n\u001b[1;32m     81\u001b[0m \u001b[38;5;28;01mreturn\u001b[39;00m u\n",
      "File \u001b[0;32m~/.local/lib/python3.8/site-packages/scipy/optimize/_minimize.py:693\u001b[0m, in \u001b[0;36mminimize\u001b[0;34m(fun, x0, args, method, jac, hess, hessp, bounds, constraints, tol, callback, options)\u001b[0m\n\u001b[1;32m    690\u001b[0m     res \u001b[38;5;241m=\u001b[39m _minimize_slsqp(fun, x0, args, jac, bounds,\n\u001b[1;32m    691\u001b[0m                           constraints, callback\u001b[38;5;241m=\u001b[39mcallback, \u001b[38;5;241m*\u001b[39m\u001b[38;5;241m*\u001b[39moptions)\n\u001b[1;32m    692\u001b[0m \u001b[38;5;28;01melif\u001b[39;00m meth \u001b[38;5;241m==\u001b[39m \u001b[38;5;124m'\u001b[39m\u001b[38;5;124mtrust-constr\u001b[39m\u001b[38;5;124m'\u001b[39m:\n\u001b[0;32m--> 693\u001b[0m     res \u001b[38;5;241m=\u001b[39m \u001b[43m_minimize_trustregion_constr\u001b[49m\u001b[43m(\u001b[49m\u001b[43mfun\u001b[49m\u001b[43m,\u001b[49m\u001b[43m \u001b[49m\u001b[43mx0\u001b[49m\u001b[43m,\u001b[49m\u001b[43m \u001b[49m\u001b[43margs\u001b[49m\u001b[43m,\u001b[49m\u001b[43m \u001b[49m\u001b[43mjac\u001b[49m\u001b[43m,\u001b[49m\u001b[43m \u001b[49m\u001b[43mhess\u001b[49m\u001b[43m,\u001b[49m\u001b[43m \u001b[49m\u001b[43mhessp\u001b[49m\u001b[43m,\u001b[49m\n\u001b[1;32m    694\u001b[0m \u001b[43m                                       \u001b[49m\u001b[43mbounds\u001b[49m\u001b[43m,\u001b[49m\u001b[43m \u001b[49m\u001b[43mconstraints\u001b[49m\u001b[43m,\u001b[49m\n\u001b[1;32m    695\u001b[0m \u001b[43m                                       \u001b[49m\u001b[43mcallback\u001b[49m\u001b[38;5;241;43m=\u001b[39;49m\u001b[43mcallback\u001b[49m\u001b[43m,\u001b[49m\u001b[43m \u001b[49m\u001b[38;5;241;43m*\u001b[39;49m\u001b[38;5;241;43m*\u001b[39;49m\u001b[43moptions\u001b[49m\u001b[43m)\u001b[49m\n\u001b[1;32m    696\u001b[0m \u001b[38;5;28;01melif\u001b[39;00m meth \u001b[38;5;241m==\u001b[39m \u001b[38;5;124m'\u001b[39m\u001b[38;5;124mdogleg\u001b[39m\u001b[38;5;124m'\u001b[39m:\n\u001b[1;32m    697\u001b[0m     res \u001b[38;5;241m=\u001b[39m _minimize_dogleg(fun, x0, args, jac, hess,\n\u001b[1;32m    698\u001b[0m                            callback\u001b[38;5;241m=\u001b[39mcallback, \u001b[38;5;241m*\u001b[39m\u001b[38;5;241m*\u001b[39moptions)\n",
      "File \u001b[0;32m~/.local/lib/python3.8/site-packages/scipy/optimize/_trustregion_constr/minimize_trustregion_constr.py:500\u001b[0m, in \u001b[0;36m_minimize_trustregion_constr\u001b[0;34m(fun, x0, args, grad, hess, hessp, bounds, constraints, xtol, gtol, barrier_tol, sparse_jacobian, callback, maxiter, verbose, finite_diff_rel_step, initial_constr_penalty, initial_tr_radius, initial_barrier_parameter, initial_barrier_tolerance, factorization_method, disp)\u001b[0m\n\u001b[1;32m    497\u001b[0m         J_eq, _ \u001b[38;5;241m=\u001b[39m canonical\u001b[38;5;241m.\u001b[39mjac(x)\n\u001b[1;32m    498\u001b[0m         \u001b[38;5;28;01mreturn\u001b[39;00m g, J_eq\n\u001b[0;32m--> 500\u001b[0m     _, result \u001b[38;5;241m=\u001b[39m \u001b[43mequality_constrained_sqp\u001b[49m\u001b[43m(\u001b[49m\n\u001b[1;32m    501\u001b[0m \u001b[43m        \u001b[49m\u001b[43mfun_and_constr\u001b[49m\u001b[43m,\u001b[49m\u001b[43m \u001b[49m\u001b[43mgrad_and_jac\u001b[49m\u001b[43m,\u001b[49m\u001b[43m \u001b[49m\u001b[43mlagrangian_hess\u001b[49m\u001b[43m,\u001b[49m\n\u001b[1;32m    502\u001b[0m \u001b[43m        \u001b[49m\u001b[43mx0\u001b[49m\u001b[43m,\u001b[49m\u001b[43m \u001b[49m\u001b[43mobjective\u001b[49m\u001b[38;5;241;43m.\u001b[39;49m\u001b[43mf\u001b[49m\u001b[43m,\u001b[49m\u001b[43m \u001b[49m\u001b[43mobjective\u001b[49m\u001b[38;5;241;43m.\u001b[39;49m\u001b[43mg\u001b[49m\u001b[43m,\u001b[49m\n\u001b[1;32m    503\u001b[0m \u001b[43m        \u001b[49m\u001b[43mc_eq0\u001b[49m\u001b[43m,\u001b[49m\u001b[43m \u001b[49m\u001b[43mJ_eq0\u001b[49m\u001b[43m,\u001b[49m\n\u001b[1;32m    504\u001b[0m \u001b[43m        \u001b[49m\u001b[43mstop_criteria\u001b[49m\u001b[43m,\u001b[49m\u001b[43m \u001b[49m\u001b[43mstate\u001b[49m\u001b[43m,\u001b[49m\n\u001b[1;32m    505\u001b[0m \u001b[43m        \u001b[49m\u001b[43minitial_constr_penalty\u001b[49m\u001b[43m,\u001b[49m\u001b[43m \u001b[49m\u001b[43minitial_tr_radius\u001b[49m\u001b[43m,\u001b[49m\n\u001b[1;32m    506\u001b[0m \u001b[43m        \u001b[49m\u001b[43mfactorization_method\u001b[49m\u001b[43m)\u001b[49m\n\u001b[1;32m    508\u001b[0m \u001b[38;5;28;01melif\u001b[39;00m method \u001b[38;5;241m==\u001b[39m \u001b[38;5;124m'\u001b[39m\u001b[38;5;124mtr_interior_point\u001b[39m\u001b[38;5;124m'\u001b[39m:\n\u001b[1;32m    509\u001b[0m     _, result \u001b[38;5;241m=\u001b[39m tr_interior_point(\n\u001b[1;32m    510\u001b[0m         objective\u001b[38;5;241m.\u001b[39mfun, objective\u001b[38;5;241m.\u001b[39mgrad, lagrangian_hess,\n\u001b[1;32m    511\u001b[0m         n_vars, canonical\u001b[38;5;241m.\u001b[39mn_ineq, canonical\u001b[38;5;241m.\u001b[39mn_eq,\n\u001b[0;32m   (...)\u001b[0m\n\u001b[1;32m    519\u001b[0m         initial_constr_penalty, initial_tr_radius,\n\u001b[1;32m    520\u001b[0m         factorization_method)\n",
      "File \u001b[0;32m~/.local/lib/python3.8/site-packages/scipy/optimize/_trustregion_constr/equality_constrained_sqp.py:147\u001b[0m, in \u001b[0;36mequality_constrained_sqp\u001b[0;34m(fun_and_constr, grad_and_jac, lagr_hess, x0, fun0, grad0, constr0, jac0, stop_criteria, state, initial_penalty, initial_trust_radius, factorization_method, trust_lb, trust_ub, scaling)\u001b[0m\n\u001b[1;32m    145\u001b[0m \u001b[38;5;66;03m# Evaluate function and constraints at trial point\u001b[39;00m\n\u001b[1;32m    146\u001b[0m x_next \u001b[38;5;241m=\u001b[39m x \u001b[38;5;241m+\u001b[39m S\u001b[38;5;241m.\u001b[39mdot(d)\n\u001b[0;32m--> 147\u001b[0m f_next, b_next \u001b[38;5;241m=\u001b[39m \u001b[43mfun_and_constr\u001b[49m\u001b[43m(\u001b[49m\u001b[43mx_next\u001b[49m\u001b[43m)\u001b[49m\n\u001b[1;32m    148\u001b[0m \u001b[38;5;66;03m# Compute merit function at trial point\u001b[39;00m\n\u001b[1;32m    149\u001b[0m merit_function_next \u001b[38;5;241m=\u001b[39m f_next \u001b[38;5;241m+\u001b[39m penalty\u001b[38;5;241m*\u001b[39mnorm(b_next)\n",
      "File \u001b[0;32m~/.local/lib/python3.8/site-packages/scipy/optimize/_trustregion_constr/minimize_trustregion_constr.py:491\u001b[0m, in \u001b[0;36m_minimize_trustregion_constr.<locals>.fun_and_constr\u001b[0;34m(x)\u001b[0m\n\u001b[1;32m    490\u001b[0m \u001b[38;5;28;01mdef\u001b[39;00m \u001b[38;5;21mfun_and_constr\u001b[39m(x):\n\u001b[0;32m--> 491\u001b[0m     f \u001b[38;5;241m=\u001b[39m \u001b[43mobjective\u001b[49m\u001b[38;5;241;43m.\u001b[39;49m\u001b[43mfun\u001b[49m\u001b[43m(\u001b[49m\u001b[43mx\u001b[49m\u001b[43m)\u001b[49m\n\u001b[1;32m    492\u001b[0m     c_eq, _ \u001b[38;5;241m=\u001b[39m canonical\u001b[38;5;241m.\u001b[39mfun(x)\n\u001b[1;32m    493\u001b[0m     \u001b[38;5;28;01mreturn\u001b[39;00m f, c_eq\n",
      "File \u001b[0;32m~/.local/lib/python3.8/site-packages/scipy/optimize/_differentiable_functions.py:266\u001b[0m, in \u001b[0;36mScalarFunction.fun\u001b[0;34m(self, x)\u001b[0m\n\u001b[1;32m    264\u001b[0m \u001b[38;5;28;01mdef\u001b[39;00m \u001b[38;5;21mfun\u001b[39m(\u001b[38;5;28mself\u001b[39m, x):\n\u001b[1;32m    265\u001b[0m     \u001b[38;5;28;01mif\u001b[39;00m \u001b[38;5;129;01mnot\u001b[39;00m np\u001b[38;5;241m.\u001b[39marray_equal(x, \u001b[38;5;28mself\u001b[39m\u001b[38;5;241m.\u001b[39mx):\n\u001b[0;32m--> 266\u001b[0m         \u001b[38;5;28;43mself\u001b[39;49m\u001b[38;5;241;43m.\u001b[39;49m\u001b[43m_update_x_impl\u001b[49m\u001b[43m(\u001b[49m\u001b[43mx\u001b[49m\u001b[43m)\u001b[49m\n\u001b[1;32m    267\u001b[0m     \u001b[38;5;28mself\u001b[39m\u001b[38;5;241m.\u001b[39m_update_fun()\n\u001b[1;32m    268\u001b[0m     \u001b[38;5;28;01mreturn\u001b[39;00m \u001b[38;5;28mself\u001b[39m\u001b[38;5;241m.\u001b[39mf\n",
      "File \u001b[0;32m~/.local/lib/python3.8/site-packages/scipy/optimize/_differentiable_functions.py:238\u001b[0m, in \u001b[0;36mScalarFunction.__init__.<locals>.update_x\u001b[0;34m(x)\u001b[0m\n\u001b[1;32m    236\u001b[0m \u001b[38;5;28mself\u001b[39m\u001b[38;5;241m.\u001b[39mg_updated \u001b[38;5;241m=\u001b[39m \u001b[38;5;28;01mFalse\u001b[39;00m\n\u001b[1;32m    237\u001b[0m \u001b[38;5;28mself\u001b[39m\u001b[38;5;241m.\u001b[39mH_updated \u001b[38;5;241m=\u001b[39m \u001b[38;5;28;01mFalse\u001b[39;00m\n\u001b[0;32m--> 238\u001b[0m \u001b[38;5;28;43mself\u001b[39;49m\u001b[38;5;241;43m.\u001b[39;49m\u001b[43m_update_hess\u001b[49m\u001b[43m(\u001b[49m\u001b[43m)\u001b[49m\n",
      "File \u001b[0;32m~/.local/lib/python3.8/site-packages/scipy/optimize/_differentiable_functions.py:261\u001b[0m, in \u001b[0;36mScalarFunction._update_hess\u001b[0;34m(self)\u001b[0m\n\u001b[1;32m    259\u001b[0m \u001b[38;5;28;01mdef\u001b[39;00m \u001b[38;5;21m_update_hess\u001b[39m(\u001b[38;5;28mself\u001b[39m):\n\u001b[1;32m    260\u001b[0m     \u001b[38;5;28;01mif\u001b[39;00m \u001b[38;5;129;01mnot\u001b[39;00m \u001b[38;5;28mself\u001b[39m\u001b[38;5;241m.\u001b[39mH_updated:\n\u001b[0;32m--> 261\u001b[0m         \u001b[38;5;28;43mself\u001b[39;49m\u001b[38;5;241;43m.\u001b[39;49m\u001b[43m_update_hess_impl\u001b[49m\u001b[43m(\u001b[49m\u001b[43m)\u001b[49m\n\u001b[1;32m    262\u001b[0m         \u001b[38;5;28mself\u001b[39m\u001b[38;5;241m.\u001b[39mH_updated \u001b[38;5;241m=\u001b[39m \u001b[38;5;28;01mTrue\u001b[39;00m\n",
      "File \u001b[0;32m~/.local/lib/python3.8/site-packages/scipy/optimize/_differentiable_functions.py:222\u001b[0m, in \u001b[0;36mScalarFunction.__init__.<locals>.update_hess\u001b[0;34m()\u001b[0m\n\u001b[1;32m    221\u001b[0m \u001b[38;5;28;01mdef\u001b[39;00m \u001b[38;5;21mupdate_hess\u001b[39m():\n\u001b[0;32m--> 222\u001b[0m     \u001b[38;5;28;43mself\u001b[39;49m\u001b[38;5;241;43m.\u001b[39;49m\u001b[43m_update_grad\u001b[49m\u001b[43m(\u001b[49m\u001b[43m)\u001b[49m\n\u001b[1;32m    223\u001b[0m     \u001b[38;5;28mself\u001b[39m\u001b[38;5;241m.\u001b[39mH\u001b[38;5;241m.\u001b[39mupdate(\u001b[38;5;28mself\u001b[39m\u001b[38;5;241m.\u001b[39mx \u001b[38;5;241m-\u001b[39m \u001b[38;5;28mself\u001b[39m\u001b[38;5;241m.\u001b[39mx_prev, \u001b[38;5;28mself\u001b[39m\u001b[38;5;241m.\u001b[39mg \u001b[38;5;241m-\u001b[39m \u001b[38;5;28mself\u001b[39m\u001b[38;5;241m.\u001b[39mg_prev)\n",
      "File \u001b[0;32m~/.local/lib/python3.8/site-packages/scipy/optimize/_differentiable_functions.py:256\u001b[0m, in \u001b[0;36mScalarFunction._update_grad\u001b[0;34m(self)\u001b[0m\n\u001b[1;32m    254\u001b[0m \u001b[38;5;28;01mdef\u001b[39;00m \u001b[38;5;21m_update_grad\u001b[39m(\u001b[38;5;28mself\u001b[39m):\n\u001b[1;32m    255\u001b[0m     \u001b[38;5;28;01mif\u001b[39;00m \u001b[38;5;129;01mnot\u001b[39;00m \u001b[38;5;28mself\u001b[39m\u001b[38;5;241m.\u001b[39mg_updated:\n\u001b[0;32m--> 256\u001b[0m         \u001b[38;5;28;43mself\u001b[39;49m\u001b[38;5;241;43m.\u001b[39;49m\u001b[43m_update_grad_impl\u001b[49m\u001b[43m(\u001b[49m\u001b[43m)\u001b[49m\n\u001b[1;32m    257\u001b[0m         \u001b[38;5;28mself\u001b[39m\u001b[38;5;241m.\u001b[39mg_updated \u001b[38;5;241m=\u001b[39m \u001b[38;5;28;01mTrue\u001b[39;00m\n",
      "File \u001b[0;32m~/.local/lib/python3.8/site-packages/scipy/optimize/_differentiable_functions.py:173\u001b[0m, in \u001b[0;36mScalarFunction.__init__.<locals>.update_grad\u001b[0;34m()\u001b[0m\n\u001b[1;32m    171\u001b[0m \u001b[38;5;28mself\u001b[39m\u001b[38;5;241m.\u001b[39m_update_fun()\n\u001b[1;32m    172\u001b[0m \u001b[38;5;28mself\u001b[39m\u001b[38;5;241m.\u001b[39mngev \u001b[38;5;241m+\u001b[39m\u001b[38;5;241m=\u001b[39m \u001b[38;5;241m1\u001b[39m\n\u001b[0;32m--> 173\u001b[0m \u001b[38;5;28mself\u001b[39m\u001b[38;5;241m.\u001b[39mg \u001b[38;5;241m=\u001b[39m \u001b[43mapprox_derivative\u001b[49m\u001b[43m(\u001b[49m\u001b[43mfun_wrapped\u001b[49m\u001b[43m,\u001b[49m\u001b[43m \u001b[49m\u001b[38;5;28;43mself\u001b[39;49m\u001b[38;5;241;43m.\u001b[39;49m\u001b[43mx\u001b[49m\u001b[43m,\u001b[49m\u001b[43m \u001b[49m\u001b[43mf0\u001b[49m\u001b[38;5;241;43m=\u001b[39;49m\u001b[38;5;28;43mself\u001b[39;49m\u001b[38;5;241;43m.\u001b[39;49m\u001b[43mf\u001b[49m\u001b[43m,\u001b[49m\n\u001b[1;32m    174\u001b[0m \u001b[43m                           \u001b[49m\u001b[38;5;241;43m*\u001b[39;49m\u001b[38;5;241;43m*\u001b[39;49m\u001b[43mfinite_diff_options\u001b[49m\u001b[43m)\u001b[49m\n",
      "File \u001b[0;32m~/.local/lib/python3.8/site-packages/scipy/optimize/_numdiff.py:505\u001b[0m, in \u001b[0;36mapprox_derivative\u001b[0;34m(fun, x0, method, rel_step, abs_step, f0, bounds, sparsity, as_linear_operator, args, kwargs)\u001b[0m\n\u001b[1;32m    502\u001b[0m     use_one_sided \u001b[38;5;241m=\u001b[39m \u001b[38;5;28;01mFalse\u001b[39;00m\n\u001b[1;32m    504\u001b[0m \u001b[38;5;28;01mif\u001b[39;00m sparsity \u001b[38;5;129;01mis\u001b[39;00m \u001b[38;5;28;01mNone\u001b[39;00m:\n\u001b[0;32m--> 505\u001b[0m     \u001b[38;5;28;01mreturn\u001b[39;00m \u001b[43m_dense_difference\u001b[49m\u001b[43m(\u001b[49m\u001b[43mfun_wrapped\u001b[49m\u001b[43m,\u001b[49m\u001b[43m \u001b[49m\u001b[43mx0\u001b[49m\u001b[43m,\u001b[49m\u001b[43m \u001b[49m\u001b[43mf0\u001b[49m\u001b[43m,\u001b[49m\u001b[43m \u001b[49m\u001b[43mh\u001b[49m\u001b[43m,\u001b[49m\n\u001b[1;32m    506\u001b[0m \u001b[43m                             \u001b[49m\u001b[43muse_one_sided\u001b[49m\u001b[43m,\u001b[49m\u001b[43m \u001b[49m\u001b[43mmethod\u001b[49m\u001b[43m)\u001b[49m\n\u001b[1;32m    507\u001b[0m \u001b[38;5;28;01melse\u001b[39;00m:\n\u001b[1;32m    508\u001b[0m     \u001b[38;5;28;01mif\u001b[39;00m \u001b[38;5;129;01mnot\u001b[39;00m issparse(sparsity) \u001b[38;5;129;01mand\u001b[39;00m \u001b[38;5;28mlen\u001b[39m(sparsity) \u001b[38;5;241m==\u001b[39m \u001b[38;5;241m2\u001b[39m:\n",
      "File \u001b[0;32m~/.local/lib/python3.8/site-packages/scipy/optimize/_numdiff.py:576\u001b[0m, in \u001b[0;36m_dense_difference\u001b[0;34m(fun, x0, f0, h, use_one_sided, method)\u001b[0m\n\u001b[1;32m    574\u001b[0m     x \u001b[38;5;241m=\u001b[39m x0 \u001b[38;5;241m+\u001b[39m h_vecs[i]\n\u001b[1;32m    575\u001b[0m     dx \u001b[38;5;241m=\u001b[39m x[i] \u001b[38;5;241m-\u001b[39m x0[i]  \u001b[38;5;66;03m# Recompute dx as exactly representable number.\u001b[39;00m\n\u001b[0;32m--> 576\u001b[0m     df \u001b[38;5;241m=\u001b[39m \u001b[43mfun\u001b[49m\u001b[43m(\u001b[49m\u001b[43mx\u001b[49m\u001b[43m)\u001b[49m \u001b[38;5;241m-\u001b[39m f0\n\u001b[1;32m    577\u001b[0m \u001b[38;5;28;01melif\u001b[39;00m method \u001b[38;5;241m==\u001b[39m \u001b[38;5;124m'\u001b[39m\u001b[38;5;124m3-point\u001b[39m\u001b[38;5;124m'\u001b[39m \u001b[38;5;129;01mand\u001b[39;00m use_one_sided[i]:\n\u001b[1;32m    578\u001b[0m     x1 \u001b[38;5;241m=\u001b[39m x0 \u001b[38;5;241m+\u001b[39m h_vecs[i]\n",
      "File \u001b[0;32m~/.local/lib/python3.8/site-packages/scipy/optimize/_numdiff.py:456\u001b[0m, in \u001b[0;36mapprox_derivative.<locals>.fun_wrapped\u001b[0;34m(x)\u001b[0m\n\u001b[1;32m    455\u001b[0m \u001b[38;5;28;01mdef\u001b[39;00m \u001b[38;5;21mfun_wrapped\u001b[39m(x):\n\u001b[0;32m--> 456\u001b[0m     f \u001b[38;5;241m=\u001b[39m np\u001b[38;5;241m.\u001b[39matleast_1d(\u001b[43mfun\u001b[49m\u001b[43m(\u001b[49m\u001b[43mx\u001b[49m\u001b[43m,\u001b[49m\u001b[43m \u001b[49m\u001b[38;5;241;43m*\u001b[39;49m\u001b[43margs\u001b[49m\u001b[43m,\u001b[49m\u001b[43m \u001b[49m\u001b[38;5;241;43m*\u001b[39;49m\u001b[38;5;241;43m*\u001b[39;49m\u001b[43mkwargs\u001b[49m\u001b[43m)\u001b[49m)\n\u001b[1;32m    457\u001b[0m     \u001b[38;5;28;01mif\u001b[39;00m f\u001b[38;5;241m.\u001b[39mndim \u001b[38;5;241m>\u001b[39m \u001b[38;5;241m1\u001b[39m:\n\u001b[1;32m    458\u001b[0m         \u001b[38;5;28;01mraise\u001b[39;00m \u001b[38;5;167;01mRuntimeError\u001b[39;00m(\u001b[38;5;124m\"\u001b[39m\u001b[38;5;124m`fun` return value has \u001b[39m\u001b[38;5;124m\"\u001b[39m\n\u001b[1;32m    459\u001b[0m                            \u001b[38;5;124m\"\u001b[39m\u001b[38;5;124mmore than 1 dimension.\u001b[39m\u001b[38;5;124m\"\u001b[39m)\n",
      "File \u001b[0;32m~/.local/lib/python3.8/site-packages/scipy/optimize/_differentiable_functions.py:137\u001b[0m, in \u001b[0;36mScalarFunction.__init__.<locals>.fun_wrapped\u001b[0;34m(x)\u001b[0m\n\u001b[1;32m    133\u001b[0m \u001b[38;5;28mself\u001b[39m\u001b[38;5;241m.\u001b[39mnfev \u001b[38;5;241m+\u001b[39m\u001b[38;5;241m=\u001b[39m \u001b[38;5;241m1\u001b[39m\n\u001b[1;32m    134\u001b[0m \u001b[38;5;66;03m# Send a copy because the user may overwrite it.\u001b[39;00m\n\u001b[1;32m    135\u001b[0m \u001b[38;5;66;03m# Overwriting results in undefined behaviour because\u001b[39;00m\n\u001b[1;32m    136\u001b[0m \u001b[38;5;66;03m# fun(self.x) will change self.x, with the two no longer linked.\u001b[39;00m\n\u001b[0;32m--> 137\u001b[0m fx \u001b[38;5;241m=\u001b[39m \u001b[43mfun\u001b[49m\u001b[43m(\u001b[49m\u001b[43mnp\u001b[49m\u001b[38;5;241;43m.\u001b[39;49m\u001b[43mcopy\u001b[49m\u001b[43m(\u001b[49m\u001b[43mx\u001b[49m\u001b[43m)\u001b[49m\u001b[43m,\u001b[49m\u001b[43m \u001b[49m\u001b[38;5;241;43m*\u001b[39;49m\u001b[43margs\u001b[49m\u001b[43m)\u001b[49m\n\u001b[1;32m    138\u001b[0m \u001b[38;5;66;03m# Make sure the function returns a true scalar\u001b[39;00m\n\u001b[1;32m    139\u001b[0m \u001b[38;5;28;01mif\u001b[39;00m \u001b[38;5;129;01mnot\u001b[39;00m np\u001b[38;5;241m.\u001b[39misscalar(fx):\n",
      "Input \u001b[0;32mIn [53]\u001b[0m, in \u001b[0;36mpenergy\u001b[0;34m(u_flattened, W, idx, y, p)\u001b[0m\n\u001b[1;32m     32\u001b[0m gradu \u001b[38;5;241m=\u001b[39m grad(u)\n\u001b[1;32m     33\u001b[0m y_bar \u001b[38;5;241m=\u001b[39m (\u001b[38;5;241m1\u001b[39m\u001b[38;5;241m/\u001b[39my\u001b[38;5;241m.\u001b[39mshape[\u001b[38;5;241m0\u001b[39m]) \u001b[38;5;241m*\u001b[39m y\u001b[38;5;241m.\u001b[39msum(axis \u001b[38;5;241m=\u001b[39m \u001b[38;5;241m0\u001b[39m)\n\u001b[0;32m---> 35\u001b[0m first_summand \u001b[38;5;241m=\u001b[39m (\u001b[38;5;241m1\u001b[39m\u001b[38;5;241m/\u001b[39m(\u001b[38;5;241m2\u001b[39m\u001b[38;5;241m*\u001b[39mp)) \u001b[38;5;241m*\u001b[39m (W \u001b[38;5;241m*\u001b[39m (\u001b[43mnp\u001b[49m\u001b[38;5;241;43m.\u001b[39;49m\u001b[43mapply_along_axis\u001b[49m\u001b[43m(\u001b[49m\u001b[43mnp\u001b[49m\u001b[38;5;241;43m.\u001b[39;49m\u001b[43mlinalg\u001b[49m\u001b[38;5;241;43m.\u001b[39;49m\u001b[43mnorm\u001b[49m\u001b[43m,\u001b[49m\u001b[43m \u001b[49m\u001b[38;5;241;43m2\u001b[39;49m\u001b[43m,\u001b[49m\u001b[43m \u001b[49m\u001b[43mgradu\u001b[49m\u001b[43m)\u001b[49m \u001b[38;5;241m*\u001b[39m\u001b[38;5;241m*\u001b[39m p))\u001b[38;5;241m.\u001b[39msum()\n\u001b[1;32m     36\u001b[0m second_summand \u001b[38;5;241m=\u001b[39m np\u001b[38;5;241m.\u001b[39msum( (y \u001b[38;5;241m-\u001b[39m y_bar) \u001b[38;5;241m*\u001b[39m u[idx] )\n\u001b[1;32m     38\u001b[0m \u001b[38;5;28;01mreturn\u001b[39;00m first_summand \u001b[38;5;241m-\u001b[39m second_summand\n",
      "File \u001b[0;32m<__array_function__ internals>:5\u001b[0m, in \u001b[0;36mapply_along_axis\u001b[0;34m(*args, **kwargs)\u001b[0m\n",
      "File \u001b[0;32m~/.local/lib/python3.8/site-packages/numpy/lib/shape_base.py:402\u001b[0m, in \u001b[0;36mapply_along_axis\u001b[0;34m(func1d, axis, arr, *args, **kwargs)\u001b[0m\n\u001b[1;32m    400\u001b[0m buff[ind0] \u001b[38;5;241m=\u001b[39m res\n\u001b[1;32m    401\u001b[0m \u001b[38;5;28;01mfor\u001b[39;00m ind \u001b[38;5;129;01min\u001b[39;00m inds:\n\u001b[0;32m--> 402\u001b[0m     buff[ind] \u001b[38;5;241m=\u001b[39m asanyarray(func1d(inarr_view[ind], \u001b[38;5;241m*\u001b[39margs, \u001b[38;5;241m*\u001b[39m\u001b[38;5;241m*\u001b[39mkwargs))\n\u001b[1;32m    404\u001b[0m \u001b[38;5;28;01mif\u001b[39;00m \u001b[38;5;129;01mnot\u001b[39;00m \u001b[38;5;28misinstance\u001b[39m(res, matrix):\n\u001b[1;32m    405\u001b[0m     \u001b[38;5;66;03m# wrap the array, to preserve subclasses\u001b[39;00m\n\u001b[1;32m    406\u001b[0m     buff \u001b[38;5;241m=\u001b[39m res\u001b[38;5;241m.\u001b[39m__array_wrap__(buff)\n",
      "\u001b[0;31mKeyboardInterrupt\u001b[0m: "
     ]
    },
    {
     "data": {
      "image/png": "[encoded data removed]",
      "text/plain": [
       "<Figure size 576x576 with 6 Axes>"
      ]
     },
     "metadata": {
      "needs_background": "light"
     },
     "output_type": "display_data"
    }
   ],
   "source": [
    "n = 100\n",
    "k = 2\n",
    "p_vals = [[0, 2], [4, 8], [16, 32]]\n",
    "\n",
    "# Array holding infos for each p\n",
    "info_str = p_vals\n",
    "\n",
    "# Generate training data and label sets\n",
    "X,labels = datasets.make_moons(n_samples=n,noise=0.1)\n",
    "W = gl.weightmatrix.knn(X,10).toarray()\n",
    "\n",
    "train_ind = gl.trainsets.generate(labels, rate=5)\n",
    "train_labels = labels[train_ind]\n",
    "m = train_ind.size\n",
    "\n",
    "y = np.zeros((m, k))\n",
    "for i in range(train_ind.size):\n",
    "    y[i] = euclidean_basis(train_labels[i], k)\n",
    "\n",
    "fig, ax = plt.subplots(nrows = len(p_vals), ncols = len(p_vals[0]), figsize = (8, 8))\n",
    "fig.tight_layout()\n",
    "\n",
    "# Run and plot for varying p\n",
    "for i in range(len(p_vals)):\n",
    "    for j in range(len(p_vals[i])):\n",
    "        p = p_vals[i][j]\n",
    "\n",
    "        if p == 0: # Apply GraphLearning\n",
    "            model = gl.ssl.poisson(W, solver='gradient_descent')\n",
    "            u = model.fit(train_ind, train_labels)\n",
    "            pred_labels = predict(u)\n",
    "\n",
    "            accuracy = gl.ssl.ssl_accuracy(pred_labels, labels, len(train_ind))\n",
    "            energy = np.around(penergy(u.flatten(), W, train_ind, y, 2), 2)\n",
    "\n",
    "            info_str[i][j] = f\"########### GraphLearning\\n\"\\\n",
    "                            f\"Energy = {energy:.2f}\\n\"\\\n",
    "                            f\"Accuracy = {accuracy:.2f}%\" \n",
    "            ax[i, j].scatter(X[:,0],X[:,1], c=pred_labels)\n",
    "            ax[i, j].scatter(X[train_ind,0],X[train_ind,1], marker='x', label = \"Labeled nodes\")\n",
    "            ax[i, j].set_title(f\"GraphLearn gradient descent\")\n",
    "\n",
    "        else: # Apply custom learning\n",
    "            my_u = gradient_ppoisson(W, train_ind, y, p)\n",
    "            my_pred_labels = predict(my_u)\n",
    "\n",
    "            discrepancies = np.count_nonzero(my_pred_labels - pred_labels)\n",
    "            accuracy = gl.ssl.ssl_accuracy(my_pred_labels, labels, len(train_ind))\n",
    "            energy = np.around(penergy(my_u.flatten(), W, train_ind, y, p), 2)\n",
    "            info_str[i][j] = f\"########### Custom Gradient Descent for p = {p}\\n\"\\\n",
    "                            f\"Energy = {energy:.2f}\\n\"\\\n",
    "                            f\"Discrepancies = {discrepancies}\"\\\n",
    "                            f\"\\nAccuracy = {accuracy:.2f}%\"\n",
    "\n",
    "            ax[i, j].scatter(X[:,0],X[:,1], c=my_pred_labels)\n",
    "            ax[i, j].scatter(X[train_ind,0],X[train_ind,1], marker='x', label = \"Labeled nodes\")\n",
    "            ax[i, j].set_title(f\"p = {p}\")\n",
    "            \n",
    "for i in range(len(info_str)):\n",
    "    for j in range(len(info_str[0])):\n",
    "        print(info_str[i][j])\n",
    "\n",
    "plt.legend()\n",
    "plt.show()"
   ]
  },
  {
   "cell_type": "code",
   "execution_count": 11,
   "id": "71d87f86",
   "metadata": {},
   "outputs": [
    {
     "name": "stdout",
     "output_type": "stream",
     "text": [
      "[[[ 5 11 12]\n",
      "  [ 8  9 11]\n",
      "  [ 5 15  0]\n",
      "  [16  1 12]\n",
      "  [ 7 13  6]]\n",
      "\n",
      " [[18  5 18]\n",
      "  [11 10 14]\n",
      "  [18  4  9]\n",
      "  [17  0 13]\n",
      "  [ 9  9  7]]\n",
      "\n",
      " [[ 1  0 17]\n",
      "  [ 8 13 19]\n",
      "  [15 10  8]\n",
      "  [ 7  3  6]\n",
      "  [17  3  4]]\n",
      "\n",
      " [[17 11 12]\n",
      "  [16 13 19]\n",
      "  [ 9 18 15]\n",
      "  [ 0  4 15]\n",
      "  [ 2  7  8]]]\n",
      "True\n"
     ]
    }
   ],
   "source": [
    "np.random.seed(1)\n",
    "a = np.random.randint(20, size=(4,5, 3))\n",
    "b = np.zeros((4,5,3))\n",
    "print(a)\n",
    "for i0 in range(a.shape[0]):\n",
    "    for i1 in range(a.shape[1]):\n",
    "        for j0 in range(a.shape[2]):\n",
    "            # print(i0, i1, j0)\n",
    "            b[i0,i1,j0] = a.flatten()[i0 * a.shape[2]*a.shape[1] + i1 * a.shape[2] + j0]\n",
    "            # print(a.flatten()[i0 * a.shape[2]*a.shape[1] + i1 * a.shape[2] + j0])\n",
    "print(np.array_equiv(a,b))"
   ]
  },
  {
   "cell_type": "code",
   "execution_count": 10,
   "id": "60abc02d-60ae-4cb0-9e0a-ec7139ff4a20",
   "metadata": {},
   "outputs": [
    {
     "name": "stdout",
     "output_type": "stream",
     "text": [
      "True\n"
     ]
    }
   ],
   "source": [
    "np.random.seed(1)\n",
    "n0, n1, n2, n3 = [4, 5, 3, 2]\n",
    "\n",
    "a = np.random.randint(20, size=(n0, n1, n2, n3))\n",
    "b = np.zeros((n0, n1, n2, n3))\n",
    "\n",
    "for i0 in range(a.shape[0]):\n",
    "    for i1 in range(a.shape[1]):\n",
    "        for j0 in range(a.shape[2]):\n",
    "            for j1 in range(a.shape[3]):\n",
    "                b[i0,i1,j0, j1] = a.flatten()[i0 * a.shape[3]*a.shape[2]*a.shape[1] + i1 * a.shape[3] *a.shape[2] + j0 * a.shape[3] + j1]\n",
    "                \n",
    "print(np.array_equiv(a,b))"
   ]
  },
  {
   "cell_type": "code",
   "execution_count": 24,
   "id": "77dc7d22",
   "metadata": {},
   "outputs": [
    {
     "name": "stdout",
     "output_type": "stream",
     "text": [
      "[[0 5 1 8]\n",
      " [5 0 2 0]\n",
      " [1 2 0 0]\n",
      " [8 0 0 0]]\n",
      "[1 2 3 0 2 0 1 0]\n",
      "[0 0 0 1 1 2 2 3]\n",
      "[[[ 0  0  0]\n",
      "  [ 2 -5 -6]\n",
      "  [ 3  1 -2]\n",
      "  [ 4 -2  0]]\n",
      "\n",
      " [[-2  5  6]\n",
      "  [ 0  0  0]\n",
      "  [ 1  6  4]\n",
      "  [ 2  3  6]]\n",
      "\n",
      " [[-3 -1  2]\n",
      "  [-1 -6 -4]\n",
      "  [ 0  0  0]\n",
      "  [ 1 -3  2]]\n",
      "\n",
      " [[-4  2  0]\n",
      "  [-2 -3 -6]\n",
      "  [-1  3 -2]\n",
      "  [ 0  0  0]]]\n"
     ]
    }
   ],
   "source": [
    "W = scipy.sparse.csr_matrix([ [0, 5, 1, 8], [5, 0, 2, 0], [1, 2, 0, 0], [8, 0, 0, 0] ])\n",
    "u = np.array([ [4, 3, 1], [2, 8, 7], [1, 2, 3], [0, 5, 1] ])\n",
    "print(W.toarray())\n",
    "I, J, V = scipy.sparse.find(W)\n",
    "print(I)\n",
    "print(J)\n",
    "# print(u[I])\n",
    "# print(u[J])\n",
    "#Grad = scipy.sparse.coo_matrix((u[J]-u[I], (I,J)),shape=(4,4,3)).tocsr()\n",
    "gradu = u[:, np.newaxis] - u\n",
    "print(gradu)"
   ]
  },
  {
   "cell_type": "code",
   "execution_count": 22,
   "id": "34e4d226",
   "metadata": {},
   "outputs": [
    {
     "name": "stdout",
     "output_type": "stream",
     "text": [
      "[[18  0  0  5  1]\n",
      " [18 15  8 19  2]\n",
      " [ 8 17 18 12  1]\n",
      " [ 9 14 19 10  3]]\n"
     ]
    },
    {
     "data": {
      "text/plain": [
       "array([[[  0,   0,   0,   0,   0],\n",
       "        [  0, -15,  -8, -14,  -1],\n",
       "        [ 10, -17, -18,  -7,   0],\n",
       "        [  9, -14, -19,  -5,  -2]],\n",
       "\n",
       "       [[  0,  15,   8,  14,   1],\n",
       "        [  0,   0,   0,   0,   0],\n",
       "        [ 10,  -2, -10,   7,   1],\n",
       "        [  9,   1, -11,   9,  -1]],\n",
       "\n",
       "       [[-10,  17,  18,   7,   0],\n",
       "        [-10,   2,  10,  -7,  -1],\n",
       "        [  0,   0,   0,   0,   0],\n",
       "        [ -1,   3,  -1,   2,  -2]],\n",
       "\n",
       "       [[ -9,  14,  19,   5,   2],\n",
       "        [ -9,  -1,  11,  -9,   1],\n",
       "        [  1,  -3,   1,  -2,   2],\n",
       "        [  0,   0,   0,   0,   0]]])"
      ]
     },
     "execution_count": 22,
     "metadata": {},
     "output_type": "execute_result"
    }
   ],
   "source": [
    "a = np.random.randint(20, size=(4,5))\n",
    "print(a)\n",
    "a[:, np.newaxis] - a"
   ]
  },
  {
   "cell_type": "code",
   "execution_count": 50,
   "id": "b1f19ce3",
   "metadata": {},
   "outputs": [
    {
     "name": "stdout",
     "output_type": "stream",
     "text": [
      "[-0.5  0.5]\n"
     ]
    }
   ],
   "source": [
    "## Example (see pdf)\n",
    "u = np.array([[1,0], [0,1], [1/2, 1/2]])\n",
    "#print(grad(u))\n",
    "y = np.array([[1,0], [0,1]])\n",
    "W = np.array([[0, 1, 1], [1,0,1], [1,1,0]])\n",
    "idx = [0, 1]\n",
    "p = 2\n",
    "print(grad(u)[2,1])"
   ]
  }
 ],
 "metadata": {
  "kernelspec": {
   "display_name": "Python 3 (ipykernel)",
   "language": "python",
   "name": "python3"
  },
  "language_info": {
   "codemirror_mode": {
    "name": "ipython",
    "version": 3
   },
   "file_extension": ".py",
   "mimetype": "text/x-python",
   "name": "python",
   "nbconvert_exporter": "python",
   "pygments_lexer": "ipython3",
   "version": "3.8.10"
  }
 },
 "nbformat": 4,
 "nbformat_minor": 5
}
