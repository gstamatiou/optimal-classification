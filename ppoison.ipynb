{
 "cells": [
  {
   "cell_type": "code",
   "execution_count": 111,
   "id": "06302a40",
   "metadata": {},
   "outputs": [],
   "source": [
    "import numpy as np\n",
    "import matplotlib.pyplot as plt\n",
    "import graphlearning as gl\n",
    "from scipy.optimize import minimize, LinearConstraint"
   ]
  },
  {
   "cell_type": "markdown",
   "id": "cb1c64b6",
   "metadata": {},
   "source": [
    "Generate a sample of size 2 * n containing n data points from each class.\n",
    "All data points are sampled from a dim-dimensional Gaussian."
   ]
  },
  {
   "cell_type": "code",
   "execution_count": 78,
   "id": "4f2142de",
   "metadata": {},
   "outputs": [
    {
     "name": "stdout",
     "output_type": "stream",
     "text": [
      "[[3.1 3.6]\n",
      " [1.6 3.2]\n",
      " [2.6 2.4]\n",
      " [3.2 3.5]\n",
      " [3.7 2. ]\n",
      " [2.5 3.2]\n",
      " [2.7 1.4]\n",
      " [4.4 1.1]]\n"
     ]
    },
    {
     "data": {
      "image/png": "[encoded data removed]",
      "text/plain": [
       "<Figure size 432x288 with 1 Axes>"
      ]
     },
     "metadata": {
      "needs_background": "light"
     },
     "output_type": "display_data"
    }
   ],
   "source": [
    "n = 4 # Sample size from each class\n",
    "dim = 2\n",
    "data = np.zeros((2 * n, dim))\n",
    "mean1, cov1 = [2, 4], (1/2) * np.identity(dim)\n",
    "mean2, cov2 = [4,2], (1/2) * np.identity(dim)\n",
    "np.random.seed(1)\n",
    "data[:n] = np.random.multivariate_normal(mean1, cov1, n)\n",
    "np.random.seed(2)\n",
    "data[n:] = np.random.multivariate_normal(mean2, cov2, n)\n",
    "\n",
    "data = np.around(data, 1) #Round data to 1 decimal\n",
    "#np.random.multivariate_normal([2,4], np.identity(dim), 10)\n",
    "plt.scatter(data[:n, 0], data[:n, 1], label = '0')\n",
    "plt.scatter(data[n:, 0], data[n:, 1], label = '1')\n",
    "plt.legend()\n",
    "print(data)"
   ]
  },
  {
   "cell_type": "code",
   "execution_count": 92,
   "id": "c9a23b7f",
   "metadata": {},
   "outputs": [
    {
     "name": "stdout",
     "output_type": "stream",
     "text": [
      "[[1.         0.         0.         0.92311635 0.         0.12493021\n",
      "  0.         0.        ]\n",
      " [0.         1.         0.         0.         0.         0.0391639\n",
      "  0.         0.        ]\n",
      " [0.         0.         1.         0.         0.         0.07427358\n",
      "  0.         0.        ]\n",
      " [0.92311635 0.         0.         1.         0.         0.09827359\n",
      "  0.         0.        ]\n",
      " [0.         0.         0.         0.         1.         0.\n",
      "  0.         0.        ]\n",
      " [0.12493021 0.0391639  0.07427358 0.09827359 0.         1.\n",
      "  0.         0.        ]\n",
      " [0.         0.         0.         0.         0.         0.\n",
      "  1.         0.        ]\n",
      " [0.         0.         0.         0.         0.         0.\n",
      "  0.         1.        ]]\n"
     ]
    }
   ],
   "source": [
    "W = gl.weightmatrix.epsilon_ball(data, 1)\n",
    "G = gl.graph(W)\n",
    "print(W.toarray())"
   ]
  },
  {
   "cell_type": "markdown",
   "id": "6dc3e8e1",
   "metadata": {},
   "source": [
    "Calculate $$I[u] = \\frac{1}{p} \\sum_{i,j=1}^n | \\nabla u(x_i,x_j) |^p + \\sum_{j=1}^m(y_j - \\bar{y} \\cdot u(x_j) )$$"
   ]
  },
  {
   "cell_type": "code",
   "execution_count": 115,
   "id": "60099bc0",
   "metadata": {},
   "outputs": [],
   "source": [
    "def penergy(u, G, y, p):\n",
    "    gradu = G.gradient(u, weighted = True)\n",
    "    first_summand = (1/p) * (np.absolute(gradu)**p).sum()\n",
    "    y_bar = (1/y.size) * y.sum()\n",
    "    second_summand = (y - y_bar * u).sum()\n",
    "    return first_summand + second_summand"
   ]
  },
  {
   "cell_type": "code",
   "execution_count": 122,
   "id": "128431c8",
   "metadata": {},
   "outputs": [
    {
     "name": "stdout",
     "output_type": "stream",
     "text": [
      "1.0\n"
     ]
    }
   ],
   "source": [
    "u = np.arange(n * 2)\n",
    "y = np.zeros(n * 2)\n",
    "y[n:] = np.ones(n)\n",
    "print(penergy(u, G, y, 2))"
   ]
  },
  {
   "cell_type": "code",
   "execution_count": 118,
   "id": "f7e10591",
   "metadata": {},
   "outputs": [
    {
     "name": "stdout",
     "output_type": "stream",
     "text": [
      "Values of u: \n",
      " [0 1 2]\n",
      "Gradient = \n",
      " [[ 0.  1.  2.]\n",
      " [-1.  0.  1.]\n",
      " [-2. -1.  0.]]\n",
      "First summand  11.0  Second summand  1.1102230246251565e-16\n",
      "11.0\n"
     ]
    }
   ],
   "source": [
    "def debug_penergy(u, G, y, p):\n",
    "    gradu = G.gradient(u, weighted = True)\n",
    "    print(\"Values of u: \\n\", u)\n",
    "    print(\"Gradient = \\n\", gradu.toarray())\n",
    "    first_summand = (1/p) * (np.absolute(gradu)**p).sum()\n",
    "    y_bar = (1/y.size) * y.sum()\n",
    "    second_summand = (y - y_bar * u).sum()\n",
    "    print(\"First summand \", first_summand, \" Second summand \", second_summand)\n",
    "    return first_summand + second_summand\n",
    "\n",
    "W = np.ones((3,3))\n",
    "G = gl.graph(W)\n",
    "y = np.array([0, 1, 0])\n",
    "u = np.arange(3)\n",
    "p = 2\n",
    "print(debug_penergy(u, G, y, p))\n"
   ]
  },
  {
   "cell_type": "code",
   "execution_count": 127,
   "id": "7080cabe",
   "metadata": {},
   "outputs": [
    {
     "name": "stdout",
     "output_type": "stream",
     "text": [
      "[3. 3. 3.]\n"
     ]
    },
    {
     "ename": "ValueError",
     "evalue": "shapes (1,3) and (8,) not aligned: 3 (dim 1) != 8 (dim 0)",
     "output_type": "error",
     "traceback": [
      "\u001b[0;31m---------------------------------------------------------------------------\u001b[0m",
      "\u001b[0;31mValueError\u001b[0m                                Traceback (most recent call last)",
      "Input \u001b[0;32mIn [127]\u001b[0m, in \u001b[0;36m<cell line: 3>\u001b[0;34m()\u001b[0m\n\u001b[1;32m      1\u001b[0m linear_constraint \u001b[38;5;241m=\u001b[39m LinearConstraint(G\u001b[38;5;241m.\u001b[39mdegree_vector(), [\u001b[38;5;241m0\u001b[39m], [\u001b[38;5;241m0\u001b[39m])\n\u001b[1;32m      2\u001b[0m \u001b[38;5;28mprint\u001b[39m(G\u001b[38;5;241m.\u001b[39mdegree_vector())\n\u001b[0;32m----> 3\u001b[0m \u001b[43mminimize\u001b[49m\u001b[43m(\u001b[49m\u001b[43mpenergy\u001b[49m\u001b[43m,\u001b[49m\u001b[43m \u001b[49m\u001b[43mx0\u001b[49m\u001b[43m \u001b[49m\u001b[38;5;241;43m=\u001b[39;49m\u001b[43m \u001b[49m\u001b[43mnp\u001b[49m\u001b[38;5;241;43m.\u001b[39;49m\u001b[43mzeros\u001b[49m\u001b[43m(\u001b[49m\u001b[43mn\u001b[49m\u001b[38;5;241;43m*\u001b[39;49m\u001b[38;5;241;43m2\u001b[39;49m\u001b[43m)\u001b[49m\u001b[43m,\u001b[49m\u001b[43m \u001b[49m\u001b[43margs\u001b[49m\u001b[43m \u001b[49m\u001b[38;5;241;43m=\u001b[39;49m\u001b[43m \u001b[49m\u001b[43m(\u001b[49m\u001b[43mG\u001b[49m\u001b[43m,\u001b[49m\u001b[43m \u001b[49m\u001b[43my\u001b[49m\u001b[43m,\u001b[49m\u001b[43m \u001b[49m\u001b[43mp\u001b[49m\u001b[43m)\u001b[49m\u001b[43m,\u001b[49m\u001b[43m \u001b[49m\u001b[43mmethod\u001b[49m\u001b[43m \u001b[49m\u001b[38;5;241;43m=\u001b[39;49m\u001b[43m \u001b[49m\u001b[38;5;124;43m'\u001b[39;49m\u001b[38;5;124;43mtrust-constr\u001b[39;49m\u001b[38;5;124;43m'\u001b[39;49m\u001b[43m,\u001b[49m\u001b[43m \u001b[49m\u001b[43mconstraints\u001b[49m\u001b[43m \u001b[49m\u001b[38;5;241;43m=\u001b[39;49m\u001b[43m \u001b[49m\u001b[43mlinear_constraint\u001b[49m\u001b[43m)\u001b[49m\n",
      "File \u001b[0;32m~/.local/lib/python3.8/site-packages/scipy/optimize/_minimize.py:693\u001b[0m, in \u001b[0;36mminimize\u001b[0;34m(fun, x0, args, method, jac, hess, hessp, bounds, constraints, tol, callback, options)\u001b[0m\n\u001b[1;32m    690\u001b[0m     res \u001b[38;5;241m=\u001b[39m _minimize_slsqp(fun, x0, args, jac, bounds,\n\u001b[1;32m    691\u001b[0m                           constraints, callback\u001b[38;5;241m=\u001b[39mcallback, \u001b[38;5;241m*\u001b[39m\u001b[38;5;241m*\u001b[39moptions)\n\u001b[1;32m    692\u001b[0m \u001b[38;5;28;01melif\u001b[39;00m meth \u001b[38;5;241m==\u001b[39m \u001b[38;5;124m'\u001b[39m\u001b[38;5;124mtrust-constr\u001b[39m\u001b[38;5;124m'\u001b[39m:\n\u001b[0;32m--> 693\u001b[0m     res \u001b[38;5;241m=\u001b[39m \u001b[43m_minimize_trustregion_constr\u001b[49m\u001b[43m(\u001b[49m\u001b[43mfun\u001b[49m\u001b[43m,\u001b[49m\u001b[43m \u001b[49m\u001b[43mx0\u001b[49m\u001b[43m,\u001b[49m\u001b[43m \u001b[49m\u001b[43margs\u001b[49m\u001b[43m,\u001b[49m\u001b[43m \u001b[49m\u001b[43mjac\u001b[49m\u001b[43m,\u001b[49m\u001b[43m \u001b[49m\u001b[43mhess\u001b[49m\u001b[43m,\u001b[49m\u001b[43m \u001b[49m\u001b[43mhessp\u001b[49m\u001b[43m,\u001b[49m\n\u001b[1;32m    694\u001b[0m \u001b[43m                                       \u001b[49m\u001b[43mbounds\u001b[49m\u001b[43m,\u001b[49m\u001b[43m \u001b[49m\u001b[43mconstraints\u001b[49m\u001b[43m,\u001b[49m\n\u001b[1;32m    695\u001b[0m \u001b[43m                                       \u001b[49m\u001b[43mcallback\u001b[49m\u001b[38;5;241;43m=\u001b[39;49m\u001b[43mcallback\u001b[49m\u001b[43m,\u001b[49m\u001b[43m \u001b[49m\u001b[38;5;241;43m*\u001b[39;49m\u001b[38;5;241;43m*\u001b[39;49m\u001b[43moptions\u001b[49m\u001b[43m)\u001b[49m\n\u001b[1;32m    696\u001b[0m \u001b[38;5;28;01melif\u001b[39;00m meth \u001b[38;5;241m==\u001b[39m \u001b[38;5;124m'\u001b[39m\u001b[38;5;124mdogleg\u001b[39m\u001b[38;5;124m'\u001b[39m:\n\u001b[1;32m    697\u001b[0m     res \u001b[38;5;241m=\u001b[39m _minimize_dogleg(fun, x0, args, jac, hess,\n\u001b[1;32m    698\u001b[0m                            callback\u001b[38;5;241m=\u001b[39mcallback, \u001b[38;5;241m*\u001b[39m\u001b[38;5;241m*\u001b[39moptions)\n",
      "File \u001b[0;32m~/.local/lib/python3.8/site-packages/scipy/optimize/_trustregion_constr/minimize_trustregion_constr.py:340\u001b[0m, in \u001b[0;36m_minimize_trustregion_constr\u001b[0;34m(fun, x0, args, grad, hess, hessp, bounds, constraints, xtol, gtol, barrier_tol, sparse_jacobian, callback, maxiter, verbose, finite_diff_rel_step, initial_constr_penalty, initial_tr_radius, initial_barrier_parameter, initial_barrier_tolerance, factorization_method, disp)\u001b[0m\n\u001b[1;32m    337\u001b[0m     constraints \u001b[38;5;241m=\u001b[39m [constraints]\n\u001b[1;32m    339\u001b[0m \u001b[38;5;66;03m# Prepare constraints.\u001b[39;00m\n\u001b[0;32m--> 340\u001b[0m prepared_constraints \u001b[38;5;241m=\u001b[39m [\n\u001b[1;32m    341\u001b[0m     PreparedConstraint(c, x0, sparse_jacobian, finite_diff_bounds)\n\u001b[1;32m    342\u001b[0m     \u001b[38;5;28;01mfor\u001b[39;00m c \u001b[38;5;129;01min\u001b[39;00m constraints]\n\u001b[1;32m    344\u001b[0m \u001b[38;5;66;03m# Check that all constraints are either sparse or dense.\u001b[39;00m\n\u001b[1;32m    345\u001b[0m n_sparse \u001b[38;5;241m=\u001b[39m \u001b[38;5;28msum\u001b[39m(c\u001b[38;5;241m.\u001b[39mfun\u001b[38;5;241m.\u001b[39msparse_jacobian \u001b[38;5;28;01mfor\u001b[39;00m c \u001b[38;5;129;01min\u001b[39;00m prepared_constraints)\n",
      "File \u001b[0;32m~/.local/lib/python3.8/site-packages/scipy/optimize/_trustregion_constr/minimize_trustregion_constr.py:341\u001b[0m, in \u001b[0;36m<listcomp>\u001b[0;34m(.0)\u001b[0m\n\u001b[1;32m    337\u001b[0m     constraints \u001b[38;5;241m=\u001b[39m [constraints]\n\u001b[1;32m    339\u001b[0m \u001b[38;5;66;03m# Prepare constraints.\u001b[39;00m\n\u001b[1;32m    340\u001b[0m prepared_constraints \u001b[38;5;241m=\u001b[39m [\n\u001b[0;32m--> 341\u001b[0m     \u001b[43mPreparedConstraint\u001b[49m\u001b[43m(\u001b[49m\u001b[43mc\u001b[49m\u001b[43m,\u001b[49m\u001b[43m \u001b[49m\u001b[43mx0\u001b[49m\u001b[43m,\u001b[49m\u001b[43m \u001b[49m\u001b[43msparse_jacobian\u001b[49m\u001b[43m,\u001b[49m\u001b[43m \u001b[49m\u001b[43mfinite_diff_bounds\u001b[49m\u001b[43m)\u001b[49m\n\u001b[1;32m    342\u001b[0m     \u001b[38;5;28;01mfor\u001b[39;00m c \u001b[38;5;129;01min\u001b[39;00m constraints]\n\u001b[1;32m    344\u001b[0m \u001b[38;5;66;03m# Check that all constraints are either sparse or dense.\u001b[39;00m\n\u001b[1;32m    345\u001b[0m n_sparse \u001b[38;5;241m=\u001b[39m \u001b[38;5;28msum\u001b[39m(c\u001b[38;5;241m.\u001b[39mfun\u001b[38;5;241m.\u001b[39msparse_jacobian \u001b[38;5;28;01mfor\u001b[39;00m c \u001b[38;5;129;01min\u001b[39;00m prepared_constraints)\n",
      "File \u001b[0;32m~/.local/lib/python3.8/site-packages/scipy/optimize/_constraints.py:239\u001b[0m, in \u001b[0;36mPreparedConstraint.__init__\u001b[0;34m(self, constraint, x0, sparse_jacobian, finite_diff_bounds)\u001b[0m\n\u001b[1;32m    233\u001b[0m     fun \u001b[38;5;241m=\u001b[39m VectorFunction(constraint\u001b[38;5;241m.\u001b[39mfun, x0,\n\u001b[1;32m    234\u001b[0m                          constraint\u001b[38;5;241m.\u001b[39mjac, constraint\u001b[38;5;241m.\u001b[39mhess,\n\u001b[1;32m    235\u001b[0m                          constraint\u001b[38;5;241m.\u001b[39mfinite_diff_rel_step,\n\u001b[1;32m    236\u001b[0m                          constraint\u001b[38;5;241m.\u001b[39mfinite_diff_jac_sparsity,\n\u001b[1;32m    237\u001b[0m                          finite_diff_bounds, sparse_jacobian)\n\u001b[1;32m    238\u001b[0m \u001b[38;5;28;01melif\u001b[39;00m \u001b[38;5;28misinstance\u001b[39m(constraint, LinearConstraint):\n\u001b[0;32m--> 239\u001b[0m     fun \u001b[38;5;241m=\u001b[39m \u001b[43mLinearVectorFunction\u001b[49m\u001b[43m(\u001b[49m\u001b[43mconstraint\u001b[49m\u001b[38;5;241;43m.\u001b[39;49m\u001b[43mA\u001b[49m\u001b[43m,\u001b[49m\u001b[43m \u001b[49m\u001b[43mx0\u001b[49m\u001b[43m,\u001b[49m\u001b[43m \u001b[49m\u001b[43msparse_jacobian\u001b[49m\u001b[43m)\u001b[49m\n\u001b[1;32m    240\u001b[0m \u001b[38;5;28;01melif\u001b[39;00m \u001b[38;5;28misinstance\u001b[39m(constraint, Bounds):\n\u001b[1;32m    241\u001b[0m     fun \u001b[38;5;241m=\u001b[39m IdentityVectorFunction(x0, sparse_jacobian)\n",
      "File \u001b[0;32m~/.local/lib/python3.8/site-packages/scipy/optimize/_differentiable_functions.py:573\u001b[0m, in \u001b[0;36mLinearVectorFunction.__init__\u001b[0;34m(self, A, x0, sparse_jacobian)\u001b[0m\n\u001b[1;32m    570\u001b[0m \u001b[38;5;28mself\u001b[39m\u001b[38;5;241m.\u001b[39mm, \u001b[38;5;28mself\u001b[39m\u001b[38;5;241m.\u001b[39mn \u001b[38;5;241m=\u001b[39m \u001b[38;5;28mself\u001b[39m\u001b[38;5;241m.\u001b[39mJ\u001b[38;5;241m.\u001b[39mshape\n\u001b[1;32m    572\u001b[0m \u001b[38;5;28mself\u001b[39m\u001b[38;5;241m.\u001b[39mx \u001b[38;5;241m=\u001b[39m np\u001b[38;5;241m.\u001b[39matleast_1d(x0)\u001b[38;5;241m.\u001b[39mastype(\u001b[38;5;28mfloat\u001b[39m)\n\u001b[0;32m--> 573\u001b[0m \u001b[38;5;28mself\u001b[39m\u001b[38;5;241m.\u001b[39mf \u001b[38;5;241m=\u001b[39m \u001b[38;5;28;43mself\u001b[39;49m\u001b[38;5;241;43m.\u001b[39;49m\u001b[43mJ\u001b[49m\u001b[38;5;241;43m.\u001b[39;49m\u001b[43mdot\u001b[49m\u001b[43m(\u001b[49m\u001b[38;5;28;43mself\u001b[39;49m\u001b[38;5;241;43m.\u001b[39;49m\u001b[43mx\u001b[49m\u001b[43m)\u001b[49m\n\u001b[1;32m    574\u001b[0m \u001b[38;5;28mself\u001b[39m\u001b[38;5;241m.\u001b[39mf_updated \u001b[38;5;241m=\u001b[39m \u001b[38;5;28;01mTrue\u001b[39;00m\n\u001b[1;32m    576\u001b[0m \u001b[38;5;28mself\u001b[39m\u001b[38;5;241m.\u001b[39mv \u001b[38;5;241m=\u001b[39m np\u001b[38;5;241m.\u001b[39mzeros(\u001b[38;5;28mself\u001b[39m\u001b[38;5;241m.\u001b[39mm, dtype\u001b[38;5;241m=\u001b[39m\u001b[38;5;28mfloat\u001b[39m)\n",
      "\u001b[0;31mValueError\u001b[0m: shapes (1,3) and (8,) not aligned: 3 (dim 1) != 8 (dim 0)"
     ]
    }
   ],
   "source": [
    "linear_constraint = LinearConstraint(G.degree_vector(), [0], [0])\n",
    "print(G.degree_vector())\n",
    "minimize(penergy, x0 = np.zeros(n*2), args = (G, y, p), method = 'trust-constr', constraints = linear_constraint)"
   ]
  },
  {
   "cell_type": "code",
   "execution_count": null,
   "id": "0cd5594e",
   "metadata": {},
   "outputs": [],
   "source": []
  }
 ],
 "metadata": {
  "kernelspec": {
   "display_name": "Python 3 (ipykernel)",
   "language": "python",
   "name": "python3"
  },
  "language_info": {
   "codemirror_mode": {
    "name": "ipython",
    "version": 3
   },
   "file_extension": ".py",
   "mimetype": "text/x-python",
   "name": "python",
   "nbconvert_exporter": "python",
   "pygments_lexer": "ipython3",
   "version": "3.8.10"
  }
 },
 "nbformat": 4,
 "nbformat_minor": 5
}
