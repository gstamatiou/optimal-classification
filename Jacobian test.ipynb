{
 "cells": [
  {
   "cell_type": "code",
   "execution_count": 2,
   "id": "816c86c6",
   "metadata": {},
   "outputs": [
    {
     "name": "stdout",
     "output_type": "stream",
     "text": [
      "1.2377806157553064e-07\n",
      "1.8503507187092718e-05\n",
      "0.042465548284020715\n",
      "113878.47992138591\n",
      "230176524799.0385\n"
     ]
    }
   ],
   "source": [
    "from ot_class import *\n",
    "\n",
    "def new_jacobian(u_flattened, W, idx, y, p):\n",
    "    n = W.shape[0]\n",
    "    k = u_flattened.size//n\n",
    "    m = y.shape[0]    \n",
    "    \n",
    "    u = u_flattened.reshape((n,k))\n",
    "    gradu = grad(u)\n",
    "    normed_gradu = np.apply_along_axis(np.linalg.norm, 2, gradu)\n",
    "    y_bar = y.sum(axis = 0)/m\n",
    "\n",
    "    A = W * normed_gradu **(p-2)\n",
    "    d = A.sum(axis = 1)\n",
    "    D = np.diag(d)\n",
    "    L = D - A\n",
    "    B = np.zeros( (n, k) )\n",
    "    B[idx] = y - y_bar\n",
    "    \n",
    "    jac = np.matmul(L, u) - B\n",
    "\n",
    "    return jac.flatten()\n",
    "\n",
    "# Testing vectorized jacobian\n",
    "n = 100\n",
    "k = 2\n",
    "\n",
    "X,labels = datasets.make_moons(n_samples=n,noise=0.1)\n",
    "W = gl.weightmatrix.knn(X,10).toarray()\n",
    "train_ind = gl.trainsets.generate(labels, rate=5)\n",
    "train_labels = labels[train_ind]\n",
    "m = train_ind.size\n",
    "\n",
    "\n",
    "y = np.zeros((m, k))\n",
    "for i in range(train_ind.size):\n",
    "    y[i] = euclidean_basis(train_labels[i], k)\n",
    "    \n",
    "\n",
    "u = np.random.random(size = (n,k))\n",
    "\n",
    "for p in [10, 50, 100, 200, 300]:\n",
    "    print(scipy.optimize.check_grad(penergy, new_jacobian, u.flatten(), W, train_ind, y, p))"
   ]
  },
  {
   "cell_type": "code",
   "execution_count": null,
   "id": "74f0aecc",
   "metadata": {},
   "outputs": [],
   "source": []
  }
 ],
 "metadata": {
  "kernelspec": {
   "display_name": "Python 3 (ipykernel)",
   "language": "python",
   "name": "python3"
  },
  "language_info": {
   "codemirror_mode": {
    "name": "ipython",
    "version": 3
   },
   "file_extension": ".py",
   "mimetype": "text/x-python",
   "name": "python",
   "nbconvert_exporter": "python",
   "pygments_lexer": "ipython3",
   "version": "3.8.13"
  }
 },
 "nbformat": 4,
 "nbformat_minor": 5
}
